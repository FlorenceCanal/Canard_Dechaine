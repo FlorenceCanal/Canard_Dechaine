{
 "cells": [
  {
   "cell_type": "markdown",
   "metadata": {},
   "source": [
    "# R NOTEBOOK"
   ]
  },
  {
   "cell_type": "markdown",
   "metadata": {},
   "source": [
    "## DATA WEATHER : TEAM SAKHIR"
   ]
  },
  {
   "cell_type": "markdown",
   "metadata": {},
   "source": [
    "### Loading and rearrange data :"
   ]
  },
  {
   "cell_type": "code",
   "execution_count": 1,
   "metadata": {},
   "outputs": [
    {
     "name": "stderr",
     "output_type": "stream",
     "text": [
      "Warning message:\n",
      "\"package 'dplyr' was built under R version 3.4.2\"\n",
      "Attaching package: 'dplyr'\n",
      "\n",
      "The following objects are masked from 'package:stats':\n",
      "\n",
      "    filter, lag\n",
      "\n",
      "The following objects are masked from 'package:base':\n",
      "\n",
      "    intersect, setdiff, setequal, union\n",
      "\n",
      "Loading required package: lattice\n",
      "Warning message:\n",
      "\"package 'lattice' was built under R version 3.4.2\"Loading required package: ggplot2\n",
      "Warning message:\n",
      "\"package 'mice' was built under R version 3.4.2\"Warning message:\n",
      "\"package 'VIM' was built under R version 3.4.2\"Loading required package: colorspace\n",
      "Loading required package: grid\n",
      "Loading required package: data.table\n",
      "\n",
      "Attaching package: 'data.table'\n",
      "\n",
      "The following objects are masked from 'package:dplyr':\n",
      "\n",
      "    between, first, last\n",
      "\n",
      "VIM is ready to use. \n",
      " Since version 4.0.0 the GUI is in its own package VIMGUI.\n",
      "\n",
      "          Please use the package to use the new (and old) GUI.\n",
      "\n",
      "Suggestions and bug-reports can be submitted at: https://github.com/alexkowa/VIM/issues\n",
      "\n",
      "Attaching package: 'VIM'\n",
      "\n",
      "The following object is masked from 'package:datasets':\n",
      "\n",
      "    sleep\n",
      "\n",
      "Warning message:\n",
      "\"package 'car' was built under R version 3.4.2\"\n",
      "Attaching package: 'car'\n",
      "\n",
      "The following object is masked from 'package:dplyr':\n",
      "\n",
      "    recode\n",
      "\n",
      "Warning message:\n",
      "\"package 'leaps' was built under R version 3.4.2\"Warning message:\n",
      "\"package 'DAAG' was built under R version 3.4.2\"\n",
      "Attaching package: 'DAAG'\n",
      "\n",
      "The following object is masked from 'package:car':\n",
      "\n",
      "    vif\n",
      "\n",
      "Warning message:\n",
      "\"package 'randomForest' was built under R version 3.4.2\"randomForest 4.6-12\n",
      "Type rfNews() to see new features/changes/bug fixes.\n",
      "\n",
      "Attaching package: 'randomForest'\n",
      "\n",
      "The following object is masked from 'package:ggplot2':\n",
      "\n",
      "    margin\n",
      "\n",
      "The following object is masked from 'package:dplyr':\n",
      "\n",
      "    combine\n",
      "\n"
     ]
    }
   ],
   "source": [
    "debut <- Sys.time()\n",
    "\n",
    "library(dplyr)\n",
    "library(caret)\n",
    "library(corrplot)\n",
    "library(mice)\n",
    "library(lattice)\n",
    "library(VIM)\n",
    "library(car)\n",
    "library(leaps)\n",
    "library(DAAG)\n",
    "library(randomForest)\n",
    "\n",
    "setwd(\"C:/Users/mbriens/Documents/M2/Apprentissage/Projet/GIT\")"
   ]
  },
  {
   "cell_type": "markdown",
   "metadata": {},
   "source": [
    "### TEAM SAKHIR"
   ]
  },
  {
   "cell_type": "code",
   "execution_count": 2,
   "metadata": {
    "collapsed": true,
    "scrolled": false
   },
   "outputs": [],
   "source": [
    "df <- read.csv(\"./Sakhir/data/final_train.csv\", sep=\";\", dec = \".\")\n",
    "# str(df)"
   ]
  },
  {
   "cell_type": "code",
   "execution_count": 3,
   "metadata": {
    "collapsed": true
   },
   "outputs": [],
   "source": [
    "df <- df %>% mutate(\n",
    "  date = as.Date(date, \"%Y-%m-%d\"),\n",
    "  insee = as.factor(as.character(insee)),\n",
    "  ddH10_rose4 = as.factor(as.character(ddH10_rose4)),\n",
    "  ech = as.numeric(ech),\n",
    "  mois = as.character(mois)\n",
    ") %>% select(\n",
    "    -capeinsSOL0\n",
    ")\n",
    "\n",
    "df$mois[df$mois == \"jan\"] = \"1_jan\"\n",
    "df$mois[df$mois == \"fÃ©vrier\"] = \"2_fev\"\n",
    "df$mois[df$mois == \"mars\"] = \"3_mar\"\n",
    "df$mois[df$mois == \"avril\"] = \"4_avr\"\n",
    "df$mois[df$mois == \"mai\"] = \"5_mai\"\n",
    "df$mois[df$mois == \"juin\"] = \"6_juin\"\n",
    "df$mois[df$mois == \"juillet\"] = \"7_juil\"\n",
    "df$mois[df$mois == \"aoÃ»t\"] = \"8_aout\"\n",
    "df$mois[df$mois == \"septembre\"] = \"9_sept\"\n",
    "df$mois[df$mois == \"octobre\"] = \"10_oct\"\n",
    "df$mois[df$mois == \"novembre\"] = \"11_nov\"\n",
    "df$mois[df$mois == \"dÃ©cembre\"] = \"12_dec\"\n",
    "\n",
    "df <- df %>% mutate(\n",
    "  mois = as.factor(mois)\n",
    ")\n",
    "\n",
    "# prop.table(table(df$ddH10_rose4, useNA = \"ifany\"))*100"
   ]
  },
  {
   "cell_type": "code",
   "execution_count": 4,
   "metadata": {
    "scrolled": true
   },
   "outputs": [
    {
     "name": "stdout",
     "output_type": "stream",
     "text": [
      "'data.frame':\t21950 obs. of  31 variables:\n",
      " $ date           : Date, format: \"2014-03-19\" \"2014-03-19\" ...\n",
      " $ insee          : Factor w/ 7 levels \"31069001\",\"33281001\",..: 5 1 2 3 4 6 7 5 1 2 ...\n",
      " $ tH2_obs        : num  13.8 9.9 9.9 6.7 8.9 ...\n",
      " $ ciwcH20        : num  0 0 0 0 0 0 0 0 0 0 ...\n",
      " $ clwcH20        : num  0 0 0 0 0 0 0 0 0 0 ...\n",
      " $ ddH10_rose4    : Factor w/ 4 levels \"1\",\"2\",\"3\",\"4\": 2 4 1 4 4 4 4 1 2 4 ...\n",
      " $ ffH10          : num  1 2.43 2.22 3.1 5.48 ...\n",
      " $ flir1SOL0      : num  -35348 -31937 -11913 -274297 -296271 ...\n",
      " $ fllat1SOL0     : num  -21912 -28363 -305 7788 -882 ...\n",
      " $ flsen1SOL0     : num  -7018 20495 32944 38217 170904 ...\n",
      " $ flvis1SOL0     : num  3.6e-12 3.6e-12 3.6e-12 3.6e-12 3.6e-12 ...\n",
      " $ hcoulimSOL0    : num  482.5 822.7 1156 84.1 647.9 ...\n",
      " $ huH2           : num  90.5 88.5 78.4 88 80 ...\n",
      " $ iwcSOL0        : num  0 0 0 0 0 0 0 0 0 0 ...\n",
      " $ nbSOL0_HMoy    : num  7.2771 7.9932 7.8151 2.0468 0.0697 ...\n",
      " $ nH20           : num  0 0 0 0 0 0 0 0 0 0 ...\n",
      " $ ntSOL0_HMoy    : num  7.398 8 7.995 2.049 0.241 ...\n",
      " $ pMER0          : num  1019 1029 1030 1028 1022 ...\n",
      " $ rr1SOL0        : num  0.0219 0.0114 0 0 0 ...\n",
      " $ rrH20          : num  0 0 0 0 0 0 0 0 0 0 ...\n",
      " $ tH2            : num  14.06 9.74 9.38 6.37 8.69 ...\n",
      " $ tH2_VGrad_2.100: num  -1.1876 -0.5851 0.5108 1.9396 0.0284 ...\n",
      " $ tH2_XGrad      : num  0.000411 0.000216 0.00227 0.002786 0.000152 ...\n",
      " $ tH2_YGrad      : num  4.77e-05 -9.21e-04 2.99e-04 1.51e-03 3.47e-04 ...\n",
      " $ tpwHPA850      : num  11.09 9.07 5.79 8.02 5.71 ...\n",
      " $ ux1H10         : num  -2.61 5.78 1.92 4.47 9.56 ...\n",
      " $ vapcSOL0       : num  17.3 15.4 10.5 12 12.8 ...\n",
      " $ vx1H10         : num  1.44338 -0.52564 -3.20161 0.27908 -0.00577 ...\n",
      " $ ech            : num  1 1 1 1 1 1 1 1 1 1 ...\n",
      " $ mois           : Factor w/ 9 levels \"10_oct\",\"12_dec\",..: 4 4 4 4 4 4 4 4 4 4 ...\n",
      " $ ecart          : num  -0.256 0.157 0.522 0.326 0.214 ...\n"
     ]
    }
   ],
   "source": [
    "str(df)"
   ]
  },
  {
   "cell_type": "markdown",
   "metadata": {},
   "source": [
    "### NA values (dealing with blocs) :"
   ]
  },
  {
   "cell_type": "code",
   "execution_count": 5,
   "metadata": {
    "scrolled": false
   },
   "outputs": [
    {
     "data": {
      "text/html": [
       "<dl class=dl-horizontal>\n",
       "\t<dt>date</dt>\n",
       "\t\t<dd>0</dd>\n",
       "\t<dt>insee</dt>\n",
       "\t\t<dd>0</dd>\n",
       "\t<dt>ddH10_rose4</dt>\n",
       "\t\t<dd>0</dd>\n",
       "\t<dt>ffH10</dt>\n",
       "\t\t<dd>0</dd>\n",
       "\t<dt>hcoulimSOL0</dt>\n",
       "\t\t<dd>0</dd>\n",
       "\t<dt>huH2</dt>\n",
       "\t\t<dd>0</dd>\n",
       "\t<dt>iwcSOL0</dt>\n",
       "\t\t<dd>0</dd>\n",
       "\t<dt>nbSOL0_HMoy</dt>\n",
       "\t\t<dd>0</dd>\n",
       "\t<dt>ntSOL0_HMoy</dt>\n",
       "\t\t<dd>0</dd>\n",
       "\t<dt>rrH20</dt>\n",
       "\t\t<dd>0</dd>\n",
       "\t<dt>tH2</dt>\n",
       "\t\t<dd>0</dd>\n",
       "\t<dt>tH2_VGrad_2.100</dt>\n",
       "\t\t<dd>0</dd>\n",
       "\t<dt>tH2_XGrad</dt>\n",
       "\t\t<dd>0</dd>\n",
       "\t<dt>tH2_YGrad</dt>\n",
       "\t\t<dd>0</dd>\n",
       "\t<dt>ux1H10</dt>\n",
       "\t\t<dd>0</dd>\n",
       "\t<dt>vapcSOL0</dt>\n",
       "\t\t<dd>0</dd>\n",
       "\t<dt>vx1H10</dt>\n",
       "\t\t<dd>0</dd>\n",
       "\t<dt>ech</dt>\n",
       "\t\t<dd>0</dd>\n",
       "\t<dt>mois</dt>\n",
       "\t\t<dd>0</dd>\n",
       "\t<dt>clwcH20</dt>\n",
       "\t\t<dd>0.0318906605922551</dd>\n",
       "\t<dt>rr1SOL0</dt>\n",
       "\t\t<dd>0.0318906605922551</dd>\n",
       "\t<dt>tH2_obs</dt>\n",
       "\t\t<dd>0.0911161731207289</dd>\n",
       "\t<dt>ecart</dt>\n",
       "\t\t<dd>0.0911161731207289</dd>\n",
       "\t<dt>ciwcH20</dt>\n",
       "\t\t<dd>0.191343963553531</dd>\n",
       "\t<dt>tpwHPA850</dt>\n",
       "\t\t<dd>0.191343963553531</dd>\n",
       "\t<dt>fllat1SOL0</dt>\n",
       "\t\t<dd>0.273348519362187</dd>\n",
       "\t<dt>flvis1SOL0</dt>\n",
       "\t\t<dd>0.414578587699317</dd>\n",
       "\t<dt>flsen1SOL0</dt>\n",
       "\t\t<dd>0.55125284738041</dd>\n",
       "\t<dt>flir1SOL0</dt>\n",
       "\t\t<dd>0.701594533029613</dd>\n",
       "\t<dt>pMER0</dt>\n",
       "\t\t<dd>1.27562642369021</dd>\n",
       "\t<dt>nH20</dt>\n",
       "\t\t<dd>28.4464692482916</dd>\n",
       "</dl>\n"
      ],
      "text/latex": [
       "\\begin{description*}\n",
       "\\item[date] 0\n",
       "\\item[insee] 0\n",
       "\\item[ddH10\\textbackslash{}\\_rose4] 0\n",
       "\\item[ffH10] 0\n",
       "\\item[hcoulimSOL0] 0\n",
       "\\item[huH2] 0\n",
       "\\item[iwcSOL0] 0\n",
       "\\item[nbSOL0\\textbackslash{}\\_HMoy] 0\n",
       "\\item[ntSOL0\\textbackslash{}\\_HMoy] 0\n",
       "\\item[rrH20] 0\n",
       "\\item[tH2] 0\n",
       "\\item[tH2\\textbackslash{}\\_VGrad\\textbackslash{}\\_2.100] 0\n",
       "\\item[tH2\\textbackslash{}\\_XGrad] 0\n",
       "\\item[tH2\\textbackslash{}\\_YGrad] 0\n",
       "\\item[ux1H10] 0\n",
       "\\item[vapcSOL0] 0\n",
       "\\item[vx1H10] 0\n",
       "\\item[ech] 0\n",
       "\\item[mois] 0\n",
       "\\item[clwcH20] 0.0318906605922551\n",
       "\\item[rr1SOL0] 0.0318906605922551\n",
       "\\item[tH2\\textbackslash{}\\_obs] 0.0911161731207289\n",
       "\\item[ecart] 0.0911161731207289\n",
       "\\item[ciwcH20] 0.191343963553531\n",
       "\\item[tpwHPA850] 0.191343963553531\n",
       "\\item[fllat1SOL0] 0.273348519362187\n",
       "\\item[flvis1SOL0] 0.414578587699317\n",
       "\\item[flsen1SOL0] 0.55125284738041\n",
       "\\item[flir1SOL0] 0.701594533029613\n",
       "\\item[pMER0] 1.27562642369021\n",
       "\\item[nH20] 28.4464692482916\n",
       "\\end{description*}\n"
      ],
      "text/markdown": [
       "date\n",
       ":   0insee\n",
       ":   0ddH10_rose4\n",
       ":   0ffH10\n",
       ":   0hcoulimSOL0\n",
       ":   0huH2\n",
       ":   0iwcSOL0\n",
       ":   0nbSOL0_HMoy\n",
       ":   0ntSOL0_HMoy\n",
       ":   0rrH20\n",
       ":   0tH2\n",
       ":   0tH2_VGrad_2.100\n",
       ":   0tH2_XGrad\n",
       ":   0tH2_YGrad\n",
       ":   0ux1H10\n",
       ":   0vapcSOL0\n",
       ":   0vx1H10\n",
       ":   0ech\n",
       ":   0mois\n",
       ":   0clwcH20\n",
       ":   0.0318906605922551rr1SOL0\n",
       ":   0.0318906605922551tH2_obs\n",
       ":   0.0911161731207289ecart\n",
       ":   0.0911161731207289ciwcH20\n",
       ":   0.191343963553531tpwHPA850\n",
       ":   0.191343963553531fllat1SOL0\n",
       ":   0.273348519362187flvis1SOL0\n",
       ":   0.414578587699317flsen1SOL0\n",
       ":   0.55125284738041flir1SOL0\n",
       ":   0.701594533029613pMER0\n",
       ":   1.27562642369021nH20\n",
       ":   28.4464692482916\n",
       "\n"
      ],
      "text/plain": [
       "           date           insee     ddH10_rose4           ffH10     hcoulimSOL0 \n",
       "     0.00000000      0.00000000      0.00000000      0.00000000      0.00000000 \n",
       "           huH2         iwcSOL0     nbSOL0_HMoy     ntSOL0_HMoy           rrH20 \n",
       "     0.00000000      0.00000000      0.00000000      0.00000000      0.00000000 \n",
       "            tH2 tH2_VGrad_2.100       tH2_XGrad       tH2_YGrad          ux1H10 \n",
       "     0.00000000      0.00000000      0.00000000      0.00000000      0.00000000 \n",
       "       vapcSOL0          vx1H10             ech            mois         clwcH20 \n",
       "     0.00000000      0.00000000      0.00000000      0.00000000      0.03189066 \n",
       "        rr1SOL0         tH2_obs           ecart         ciwcH20       tpwHPA850 \n",
       "     0.03189066      0.09111617      0.09111617      0.19134396      0.19134396 \n",
       "     fllat1SOL0      flvis1SOL0      flsen1SOL0       flir1SOL0           pMER0 \n",
       "     0.27334852      0.41457859      0.55125285      0.70159453      1.27562642 \n",
       "           nH20 \n",
       "    28.44646925 "
      ]
     },
     "metadata": {},
     "output_type": "display_data"
    }
   ],
   "source": [
    "# test de présence de valeur manquante\n",
    "pMiss <- function(x){sum(is.na(x))/length(x)*100}\n",
    "sort(apply(df,2,pMiss))"
   ]
  },
  {
   "cell_type": "code",
   "execution_count": 6,
   "metadata": {
    "scrolled": true
   },
   "outputs": [
    {
     "name": "stdout",
     "output_type": "stream",
     "text": [
      "\n",
      " Variables sorted by number of missings: \n",
      "        Variable        Count\n",
      "            nH20 0.2844646925\n",
      "           pMER0 0.0127562642\n",
      "       flir1SOL0 0.0070159453\n",
      "      flsen1SOL0 0.0055125285\n",
      "      flvis1SOL0 0.0041457859\n",
      "      fllat1SOL0 0.0027334852\n",
      "         ciwcH20 0.0019134396\n",
      "       tpwHPA850 0.0019134396\n",
      "         tH2_obs 0.0009111617\n",
      "           ecart 0.0009111617\n",
      "         clwcH20 0.0003189066\n",
      "         rr1SOL0 0.0003189066\n",
      "            date 0.0000000000\n",
      "           insee 0.0000000000\n",
      "     ddH10_rose4 0.0000000000\n",
      "           ffH10 0.0000000000\n",
      "     hcoulimSOL0 0.0000000000\n",
      "            huH2 0.0000000000\n",
      "         iwcSOL0 0.0000000000\n",
      "     nbSOL0_HMoy 0.0000000000\n",
      "     ntSOL0_HMoy 0.0000000000\n",
      "           rrH20 0.0000000000\n",
      "             tH2 0.0000000000\n",
      " tH2_VGrad_2.100 0.0000000000\n",
      "       tH2_XGrad 0.0000000000\n",
      "       tH2_YGrad 0.0000000000\n",
      "          ux1H10 0.0000000000\n",
      "        vapcSOL0 0.0000000000\n",
      "          vx1H10 0.0000000000\n",
      "             ech 0.0000000000\n",
      "            mois 0.0000000000\n"
     ]
    },
    {
     "data": {
      "image/png": "[encoded data removed]",
      "text/plain": [
       "plot without title"
      ]
     },
     "metadata": {},
     "output_type": "display_data"
    }
   ],
   "source": [
    "aggr_plot <- aggr(df, col=c('navyblue','red'), numbers=F, sortVars=T, labels=names(df),\n",
    "                  cex.axis=.7, gap=3, ylab=c(\"Histogram of missing data\",\"Pattern\"))"
   ]
  },
  {
   "cell_type": "code",
   "execution_count": 7,
   "metadata": {
    "scrolled": true
   },
   "outputs": [
    {
     "data": {
      "text/plain": [
       "\n",
       "    0     1     2     3     7 \n",
       "15225  6404   307     7     7 "
      ]
     },
     "metadata": {},
     "output_type": "display_data"
    }
   ],
   "source": [
    "# md.pattern(df)\n",
    "nb_na <- 1 * data.frame(is.na(df))\n",
    "table(rowSums(nb_na))\n",
    "nb_rows = nrow(df)\n",
    "\n",
    "#df = df[rowSums(na) < 12,]\n",
    "#print(paste(\"Nombre de lignes supprimées (trop de manquants) =\", nb_rows - nrow(df)))\n",
    "#print(paste(\"Nombre de lignes restantes =\", nrow(df)))\n",
    "\n",
    "#nb_na <- 1 * data.frame(is.na(df))\n",
    "#table(rowSums(nb_na))\n",
    "\n",
    "#aggr_plot <- aggr(df, col=c('navyblue','red'), numbers=F, sortVars=T, labels=names(df),\n",
    "#                  cex.axis=.7, gap=3, ylab=c(\"Histogram of missing data\",\"Pattern\"))\n",
    "\n",
    "#write.table(df, file = \"./new_df.csv\", row.names = F, sep=\";\", dec = \".\", quote = F)"
   ]
  },
  {
   "cell_type": "markdown",
   "metadata": {},
   "source": [
    "### Correlation :"
   ]
  },
  {
   "cell_type": "code",
   "execution_count": 8,
   "metadata": {
    "collapsed": true,
    "scrolled": true
   },
   "outputs": [],
   "source": [
    "X <- df[,!(colnames(df) %in% c(\"date\", \"insee\", \"tH2_obs\", \"ech\", \"mois\", \"capeinsSOL0\"))]\n",
    "X$ddH10_rose4 <- as.numeric(as.character(X$ddH10_rose4))\n",
    "X <- scale(as.matrix(X), center = T, scale = T)\n",
    "Y <- as.matrix(df$tH2_obs)"
   ]
  },
  {
   "cell_type": "code",
   "execution_count": 9,
   "metadata": {},
   "outputs": [
    {
     "data": {
      "image/png": "[encoded data removed]",
      "text/plain": [
       "Plot with title \"\""
      ]
     },
     "metadata": {},
     "output_type": "display_data"
    }
   ],
   "source": [
    "corr <- cor(X, method = \"pearson\", use = \"complete.obs\")\n",
    "corrplot(corr, order = \"hclust\", hclust.method = \"ward.D2\", diag = F, type=\"upper\")"
   ]
  },
  {
   "cell_type": "code",
   "execution_count": 10,
   "metadata": {
    "collapsed": true
   },
   "outputs": [],
   "source": [
    "# Applying a correlation filter :\n",
    "# highCorr <- findCorrelation(descrCorr, 0.85)\n",
    "# X <- X[, -highCorr]\n",
    "# X <- scale(X, center = T, scale = T)\n",
    "# corr <- cor(X, method = \"pearson\", use = \"complete.obs\")\n",
    "# corrplot(corr, order = \"hclust\")"
   ]
  },
  {
   "cell_type": "markdown",
   "metadata": {},
   "source": [
    "### Régression linéaire :"
   ]
  },
  {
   "cell_type": "code",
   "execution_count": 11,
   "metadata": {
    "collapsed": true,
    "scrolled": false
   },
   "outputs": [],
   "source": [
    "df <- read.csv(\"./Sakhir/data/final_train.csv\", sep=\";\", dec = \".\")\n",
    "# str(df)"
   ]
  },
  {
   "cell_type": "code",
   "execution_count": 12,
   "metadata": {
    "collapsed": true
   },
   "outputs": [],
   "source": [
    "df <- df %>% mutate(\n",
    "    date = as.Date(date, \"%Y-%m-%d\"),\n",
    "    insee = as.factor(as.character(insee)),\n",
    "    ddH10_rose4 = as.factor(as.character(ddH10_rose4)),\n",
    "    ech = as.numeric(ech)\n",
    ")\n",
    "df$ecart <- df$tH2_obs-df$tH2\n",
    "# prop.table(table(df$ddH10_rose4, useNA = \"ifany\"))*100"
   ]
  },
  {
   "cell_type": "code",
   "execution_count": 13,
   "metadata": {},
   "outputs": [
    {
     "name": "stdout",
     "output_type": "stream",
     "text": [
      "'data.frame':\t21950 obs. of  32 variables:\n",
      " $ date           : Date, format: \"2014-03-19\" \"2014-03-19\" ...\n",
      " $ insee          : Factor w/ 7 levels \"31069001\",\"33281001\",..: 5 1 2 3 4 6 7 5 1 2 ...\n",
      " $ tH2_obs        : num  13.8 9.9 9.9 6.7 8.9 ...\n",
      " $ capeinsSOL0    : num  NA NA NA NA NA NA NA NA NA NA ...\n",
      " $ ciwcH20        : num  0 0 0 0 0 0 0 0 0 0 ...\n",
      " $ clwcH20        : num  0 0 0 0 0 0 0 0 0 0 ...\n",
      " $ ddH10_rose4    : Factor w/ 4 levels \"1\",\"2\",\"3\",\"4\": 2 4 1 4 4 4 4 1 2 4 ...\n",
      " $ ffH10          : num  1 2.43 2.22 3.1 5.48 ...\n",
      " $ flir1SOL0      : num  -35348 -31937 -11913 -274297 -296271 ...\n",
      " $ fllat1SOL0     : num  -21912 -28363 -305 7788 -882 ...\n",
      " $ flsen1SOL0     : num  -7018 20495 32944 38217 170904 ...\n",
      " $ flvis1SOL0     : num  3.6e-12 3.6e-12 3.6e-12 3.6e-12 3.6e-12 ...\n",
      " $ hcoulimSOL0    : num  482.5 822.7 1156 84.1 647.9 ...\n",
      " $ huH2           : num  90.5 88.5 78.4 88 80 ...\n",
      " $ iwcSOL0        : num  0 0 0 0 0 0 0 0 0 0 ...\n",
      " $ nbSOL0_HMoy    : num  7.2771 7.9932 7.8151 2.0468 0.0697 ...\n",
      " $ nH20           : num  0 0 0 0 0 0 0 0 0 0 ...\n",
      " $ ntSOL0_HMoy    : num  7.398 8 7.995 2.049 0.241 ...\n",
      " $ pMER0          : num  1019 1029 1030 1028 1022 ...\n",
      " $ rr1SOL0        : num  0.0219 0.0114 0 0 0 ...\n",
      " $ rrH20          : num  0 0 0 0 0 0 0 0 0 0 ...\n",
      " $ tH2            : num  14.06 9.74 9.38 6.37 8.69 ...\n",
      " $ tH2_VGrad_2.100: num  -1.1876 -0.5851 0.5108 1.9396 0.0284 ...\n",
      " $ tH2_XGrad      : num  0.000411 0.000216 0.00227 0.002786 0.000152 ...\n",
      " $ tH2_YGrad      : num  4.77e-05 -9.21e-04 2.99e-04 1.51e-03 3.47e-04 ...\n",
      " $ tpwHPA850      : num  11.09 9.07 5.79 8.02 5.71 ...\n",
      " $ ux1H10         : num  -2.61 5.78 1.92 4.47 9.56 ...\n",
      " $ vapcSOL0       : num  17.3 15.4 10.5 12 12.8 ...\n",
      " $ vx1H10         : num  1.44338 -0.52564 -3.20161 0.27908 -0.00577 ...\n",
      " $ ech            : num  1 1 1 1 1 1 1 1 1 1 ...\n",
      " $ mois           : Factor w/ 9 levels \"aoÃ»t\",\"avril\",..: 7 7 7 7 7 7 7 7 7 7 ...\n",
      " $ ecart          : num  -0.256 0.157 0.522 0.326 0.214 ...\n"
     ]
    }
   ],
   "source": [
    "str(df)"
   ]
  },
  {
   "cell_type": "code",
   "execution_count": 14,
   "metadata": {
    "collapsed": true
   },
   "outputs": [],
   "source": [
    "set.seed(65)\n",
    "test <- sample(nrow(df), size = round(nrow(df)*0.3), replace = F)\n",
    "learn <- df[-test,]\n",
    "test <- df[test,]"
   ]
  },
  {
   "cell_type": "code",
   "execution_count": 15,
   "metadata": {
    "collapsed": true,
    "scrolled": false
   },
   "outputs": [],
   "source": [
    "df$tH2[is.na(df$tH2)] <- mean(df$tH2, na.rm = T)\n",
    "\n",
    "X <- df[,!(colnames(df) %in% c(\"date\", \"insee\", \"tH2_obs\", \"ech\", \"mois\", \"capeinsSOL0\"))]\n",
    "X$ddH10_rose4 <- as.numeric(as.character(X$ddH10_rose4))\n",
    "X <- scale(as.matrix(X), center = T, scale = T)"
   ]
  },
  {
   "cell_type": "code",
   "execution_count": 16,
   "metadata": {
    "scrolled": true
   },
   "outputs": [
    {
     "data": {
      "image/png": "[encoded data removed]",
      "text/plain": [
       "Plot with title \"\""
      ]
     },
     "metadata": {},
     "output_type": "display_data"
    }
   ],
   "source": [
    "corr <- cor(X, method = \"pearson\", use = \"complete.obs\")\n",
    "corrplot(corr, order = \"hclust\", hclust.method = \"ward.D2\", diag = F, type=\"upper\")"
   ]
  },
  {
   "cell_type": "code",
   "execution_count": 17,
   "metadata": {},
   "outputs": [
    {
     "name": "stdout",
     "output_type": "stream",
     "text": [
      "[1] \"date\"        \"tH2_obs\"     \"capeinsSOL0\" \"mois\"       \n"
     ]
    }
   ],
   "source": [
    "df_mod <- df %>% select(\n",
    "    ecart, insee, ciwcH20, clwcH20, ddH10_rose4, ffH10, flir1SOL0, fllat1SOL0, flsen1SOL0,\n",
    "    hcoulimSOL0, huH2, iwcSOL0, nbSOL0_HMoy, nH20, ntSOL0_HMoy, pMER0, rr1SOL0, rrH20, tH2,\n",
    "    tH2_VGrad_2.100, tH2_XGrad, tH2_YGrad, tpwHPA850, ux1H10, vapcSOL0, vx1H10, flvis1SOL0, ech\n",
    ")\n",
    "\n",
    "# Variables supprimées :\n",
    "print(colnames(df)[!(colnames(df)%in%colnames(df_mod))])"
   ]
  },
  {
   "cell_type": "code",
   "execution_count": 18,
   "metadata": {
    "scrolled": true
   },
   "outputs": [
    {
     "data": {
      "image/png": "[encoded data removed]",
      "text/plain": [
       "Plot with title \"Stepwise Selection\n",
       "BIC\""
      ]
     },
     "metadata": {},
     "output_type": "display_data"
    }
   ],
   "source": [
    "stepwise <- regsubsets(ecart ~ . -ech -insee, data = df_mod, method = \"seqrep\", nbest=1) # method = \"forward\" / \"backward\"\n",
    "\n",
    "par(mfrow=c(2,1))\n",
    "plot(stepwise, scale = \"adjr2\", main = \"Stepwise Selection\\nAIC\", cex.main = 0.7)\n",
    "plot(stepwise, scale = \"bic\", main = \"Stepwise Selection\\nBIC\", cex.main = 0.7)\n",
    "par(mfrow=c(1,1))"
   ]
  },
  {
   "cell_type": "code",
   "execution_count": 19,
   "metadata": {
    "scrolled": false
   },
   "outputs": [
    {
     "data": {
      "text/plain": [
       "\n",
       "Call:\n",
       "lm(formula = ecart ~ clwcH20 + ddH10_rose4 + ffH10 + fllat1SOL0 + \n",
       "    hcoulimSOL0 + huH2 + nH20 + pMER0 + tH2 + tH2_VGrad_2.100 + \n",
       "    tH2_YGrad + tpwHPA850 + vapcSOL0, data = df_mod)\n",
       "\n",
       "Residuals:\n",
       "    Min      1Q  Median      3Q     Max \n",
       "-6.2750 -0.7152  0.0116  0.7441  5.9632 \n",
       "\n",
       "Coefficients:\n",
       "                  Estimate Std. Error t value Pr(>|t|)    \n",
       "(Intercept)     -8.770e+00  1.603e+00  -5.470 4.56e-08 ***\n",
       "clwcH20         -9.798e+02  5.572e+02  -1.758 0.078683 .  \n",
       "ddH10_rose42     1.404e-01  3.736e-02   3.759 0.000171 ***\n",
       "ddH10_rose43     2.338e-01  3.220e-02   7.261 4.01e-13 ***\n",
       "ddH10_rose44     1.122e-01  3.108e-02   3.609 0.000309 ***\n",
       "ffH10            4.175e-02  6.602e-03   6.323 2.64e-10 ***\n",
       "fllat1SOL0      -1.381e-06  6.213e-08 -22.229  < 2e-16 ***\n",
       "hcoulimSOL0     -2.348e-04  2.730e-05  -8.601  < 2e-16 ***\n",
       "huH2             2.419e-02  1.126e-03  21.487  < 2e-16 ***\n",
       "nH20             6.056e-02  1.703e-02   3.555 0.000379 ***\n",
       "pMER0            6.798e-03  1.566e-03   4.341 1.43e-05 ***\n",
       "tH2             -4.801e-02  5.054e-03  -9.499  < 2e-16 ***\n",
       "tH2_VGrad_2.100  9.257e-03  7.654e-03   1.209 0.226517    \n",
       "tH2_YGrad        1.470e+02  3.601e+00  40.825  < 2e-16 ***\n",
       "tpwHPA850        3.503e-02  7.517e-03   4.660 3.20e-06 ***\n",
       "vapcSOL0        -7.047e-03  3.104e-03  -2.271 0.023179 *  \n",
       "---\n",
       "Signif. codes:  0 '***' 0.001 '**' 0.01 '*' 0.05 '.' 0.1 ' ' 1\n",
       "\n",
       "Residual standard error: 1.233 on 15288 degrees of freedom\n",
       "  (6646 observations deleted due to missingness)\n",
       "Multiple R-squared:  0.2429,\tAdjusted R-squared:  0.2422 \n",
       "F-statistic:   327 on 15 and 15288 DF,  p-value: < 2.2e-16\n"
      ]
     },
     "metadata": {},
     "output_type": "display_data"
    }
   ],
   "source": [
    "reg <- lm(ecart ~ clwcH20 + ddH10_rose4 + ffH10 + fllat1SOL0 + hcoulimSOL0 + huH2 +\n",
    "          nH20 + pMER0 + tH2 + tH2_VGrad_2.100 + tH2_YGrad + tpwHPA850 + vapcSOL0, data = df_mod) #  + ech + insee\n",
    "summary(reg)"
   ]
  },
  {
   "cell_type": "code",
   "execution_count": 20,
   "metadata": {
    "scrolled": false
   },
   "outputs": [
    {
     "data": {
      "text/plain": [
       "\n",
       "Call:\n",
       "lm(formula = ecart ~ clwcH20 + ddH10_rose4 + ffH10 + fllat1SOL0 + \n",
       "    hcoulimSOL0 + huH2 + nH20 + tH2 + tH2_VGrad_2.100 + tH2_YGrad + \n",
       "    vapcSOL0 + insee, data = df_mod, na.action = na.roughfix)\n",
       "\n",
       "Residuals:\n",
       "    Min      1Q  Median      3Q     Max \n",
       "-7.2693 -0.7181  0.0271  0.7649  6.1387 \n",
       "\n",
       "Coefficients:\n",
       "                  Estimate Std. Error t value Pr(>|t|)    \n",
       "(Intercept)     -1.784e+00  8.746e-02 -20.393  < 2e-16 ***\n",
       "clwcH20          1.830e+03  4.223e+02   4.334 1.47e-05 ***\n",
       "ddH10_rose42     1.690e-01  3.132e-02   5.397 6.85e-08 ***\n",
       "ddH10_rose43     1.808e-01  2.685e-02   6.734 1.69e-11 ***\n",
       "ddH10_rose44     6.282e-02  2.561e-02   2.453 0.014171 *  \n",
       "ffH10            3.783e-02  5.660e-03   6.685 2.37e-11 ***\n",
       "fllat1SOL0      -7.229e-07  5.148e-08 -14.043  < 2e-16 ***\n",
       "hcoulimSOL0     -1.872e-04  2.334e-05  -8.021 1.10e-15 ***\n",
       "huH2             2.731e-02  9.444e-04  28.915  < 2e-16 ***\n",
       "nH20            -2.659e-02  1.348e-02  -1.973 0.048554 *  \n",
       "tH2             -1.484e-02  3.230e-03  -4.595 4.35e-06 ***\n",
       "tH2_VGrad_2.100  5.716e-02  6.105e-03   9.363  < 2e-16 ***\n",
       "tH2_YGrad        1.564e+02  2.911e+00  53.718  < 2e-16 ***\n",
       "vapcSOL0        -1.283e-02  2.065e-03  -6.212 5.33e-10 ***\n",
       "insee33281001   -1.142e-01  3.192e-02  -3.577 0.000349 ***\n",
       "insee35281001   -1.154e-01  3.365e-02  -3.430 0.000605 ***\n",
       "insee59343001   -1.756e-01  3.426e-02  -5.127 2.97e-07 ***\n",
       "insee6088001    -3.340e-01  3.320e-02 -10.059  < 2e-16 ***\n",
       "insee67124001    1.904e-01  3.429e-02   5.551 2.87e-08 ***\n",
       "insee75114001   -5.042e-01  3.524e-02 -14.311  < 2e-16 ***\n",
       "---\n",
       "Signif. codes:  0 '***' 0.001 '**' 0.01 '*' 0.05 '.' 0.1 ' ' 1\n",
       "\n",
       "Residual standard error: 1.245 on 21930 degrees of freedom\n",
       "Multiple R-squared:  0.3021,\tAdjusted R-squared:  0.3015 \n",
       "F-statistic: 499.6 on 19 and 21930 DF,  p-value: < 2.2e-16\n"
      ]
     },
     "metadata": {},
     "output_type": "display_data"
    }
   ],
   "source": [
    "reg <- lm(ecart ~ clwcH20 + ddH10_rose4 + ffH10 + fllat1SOL0 + hcoulimSOL0 + huH2 +\n",
    "          nH20 + tH2 + tH2_VGrad_2.100 + tH2_YGrad + vapcSOL0 + insee,\n",
    "          data = df_mod, na.action = na.roughfix)\n",
    "summary(reg)\n",
    "\n",
    "#cv.lm(df = df_mod, reg, m=5) #cross-valid NB:change df_mod (test!=learn)"
   ]
  },
  {
   "cell_type": "code",
   "execution_count": 21,
   "metadata": {},
   "outputs": [
    {
     "name": "stdout",
     "output_type": "stream",
     "text": [
      "[1] 1.554992\n"
     ]
    }
   ],
   "source": [
    "test$ecart[is.na(test$ecart)] <- 0\n",
    "\n",
    "# NA PROBLEM -> imputation\n",
    "RMSE = mean((test$ecart - predict.lm(reg, test)) ^2, na.rm=T)\n",
    "print(RMSE)"
   ]
  },
  {
   "cell_type": "code",
   "execution_count": null,
   "metadata": {
    "collapsed": true
   },
   "outputs": [],
   "source": []
  },
  {
   "cell_type": "code",
   "execution_count": null,
   "metadata": {
    "collapsed": true
   },
   "outputs": [],
   "source": []
  },
  {
   "cell_type": "markdown",
   "metadata": {},
   "source": [
    "Nous allons appliquer ce modèle aux données de test !"
   ]
  },
  {
   "cell_type": "code",
   "execution_count": 22,
   "metadata": {},
   "outputs": [
    {
     "name": "stdout",
     "output_type": "stream",
     "text": [
      "'data.frame':\t21168 obs. of  30 variables:\n",
      " $ ecart          : logi  NA NA NA NA NA NA ...\n",
      " $ date           : Date, format: \"2016-06-20\" \"2016-06-20\" ...\n",
      " $ insee          : Factor w/ 7 levels \"31069001\",\"33281001\",..: 5 1 2 3 4 6 7 5 1 2 ...\n",
      " $ ciwcH20        : num  0 0 0 0 0 0 0 0 0 0 ...\n",
      " $ clwcH20        : num  0 0 0 0 0 ...\n",
      " $ ddH10_rose4    : Factor w/ 4 levels \"1\",\"2\",\"3\",\"4\": 4 4 4 3 3 3 3 3 3 4 ...\n",
      " $ ffH10          : num  2.52 3.35 1.69 3.05 3.68 ...\n",
      " $ flir1SOL0      : num  -268805 -258167 -206150 -123366 -131136 ...\n",
      " $ fllat1SOL0     : num  -93477 6797 16474 -1990 5471 ...\n",
      " $ flsen1SOL0     : num  13948 64248 8682 37443 121742 ...\n",
      " $ flvis1SOL0     : Factor w/ 12271 levels \"\",\"0\",\"0,686434218660038\",..: 7465 7465 7465 7465 7465 7465 7465 7465 7465 7465 ...\n",
      " $ hcoulimSOL0    : num  9.92 288.92 25.79 254.31 370.52 ...\n",
      " $ huH2           : num  64.6 85.9 93 89.3 90.1 ...\n",
      " $ iwcSOL0        : num  0 0 0 0 0 0 0 0 0 0 ...\n",
      " $ nbSOL0_HMoy    : num  0 0.8952 0.0214 0.0575 5.589 ...\n",
      " $ nH20           : num  0 0 0 0 0 ...\n",
      " $ ntSOL0_HMoy    : num  0 4.83 7.97 8 8 ...\n",
      " $ pMER0          : num  1016 1027 1027 1024 1021 ...\n",
      " $ rr1SOL0        : num  0 0 0 0.000642 0 ...\n",
      " $ rrH20          : num  0 0 0 0 0 0 0 0 0 0 ...\n",
      " $ tH2            : num  19.5 14.1 12 14.8 14.7 ...\n",
      " $ tH2_VGrad_2.100: num  2.3277 0.922 2.8583 -0.0951 0.5055 ...\n",
      " $ tH2_XGrad      : num  0.000593 0.004723 0.003182 0.002017 -0.001519 ...\n",
      " $ tH2_YGrad      : num  -0.002575 -0.00334 0.001268 0.000575 0.000908 ...\n",
      " $ tpwHPA850      : num  14.2 10.6 10.6 15.2 13.3 ...\n",
      " $ ux1H10         : num  2.2 5.47 2.29 3.04 4.73 ...\n",
      " $ vapcSOL0       : num  22.3 19.8 25 37.7 31.5 ...\n",
      " $ vx1H10         : num  -1.543 -1.04 0.573 3.887 4.061 ...\n",
      " $ ech            : Factor w/ 36 levels \"1\",\"10\",\"11\",..: 1 1 1 1 1 1 1 1 1 1 ...\n",
      " $ mois           : Factor w/ 8 levels \"aoÃ»t\",\"dÃ©cembre\",..: 4 4 4 4 4 4 4 4 4 4 ...\n"
     ]
    }
   ],
   "source": [
    "VALID <- read.csv(\"./Sakhir/data/test/test.csv\", sep=\";\", dec = \",\")\n",
    "\n",
    "ecart = NA\n",
    "df <- VALID\n",
    "df <- as.data.frame(cbind(ecart, df))\n",
    "\n",
    "df <- df %>% mutate(\n",
    "  date = as.Date(date, \"%Y-%m-%d\"),\n",
    "  insee = as.factor(as.character(insee)),\n",
    "  ddH10_rose4 = as.factor(as.character(as.numeric(ddH10_rose4))),\n",
    "  ech = as.factor(as.character(ech)),\n",
    ") %>% select(\n",
    "    -capeinsSOL0\n",
    ")\n",
    "\n",
    "str(df)"
   ]
  },
  {
   "cell_type": "code",
   "execution_count": 23,
   "metadata": {
    "scrolled": true
   },
   "outputs": [
    {
     "data": {
      "text/plain": [
       "\n",
       "FALSE  TRUE \n",
       "21070    98 "
      ]
     },
     "metadata": {},
     "output_type": "display_data"
    }
   ],
   "source": [
    "resu <- predict(reg, df)\n",
    "\n",
    "table(is.na(resu))\n",
    "resu[is.na(resu)] <- 0"
   ]
  },
  {
   "cell_type": "code",
   "execution_count": 24,
   "metadata": {
    "scrolled": true
   },
   "outputs": [
    {
     "data": {
      "image/png": "[encoded data removed]",
      "text/plain": [
       "Plot with title \"Histogram of resu\""
      ]
     },
     "metadata": {},
     "output_type": "display_data"
    }
   ],
   "source": [
    "hist(resu)"
   ]
  },
  {
   "cell_type": "code",
   "execution_count": 25,
   "metadata": {
    "collapsed": true
   },
   "outputs": [],
   "source": [
    "tH2_obs = df$tH2 + resu\n",
    "df$tH2_obs = tH2_obs"
   ]
  },
  {
   "cell_type": "code",
   "execution_count": 26,
   "metadata": {
    "collapsed": true
   },
   "outputs": [],
   "source": [
    "submiss <- df %>% select(\n",
    "    date, insee, ech, tH2_obs\n",
    ")"
   ]
  },
  {
   "cell_type": "code",
   "execution_count": 27,
   "metadata": {},
   "outputs": [
    {
     "data": {
      "text/html": [
       "<table>\n",
       "<thead><tr><th scope=col>date</th><th scope=col>insee</th><th scope=col>ech</th><th scope=col>tH2_obs</th></tr></thead>\n",
       "<tbody>\n",
       "\t<tr><td>2016-06-20</td><td>6088001   </td><td>1         </td><td>18.48918  </td></tr>\n",
       "\t<tr><td>2016-06-20</td><td>31069001  </td><td>1         </td><td>13.84956  </td></tr>\n",
       "\t<tr><td>2016-06-20</td><td>33281001  </td><td>1         </td><td>12.59624  </td></tr>\n",
       "\t<tr><td>2016-06-20</td><td>35281001  </td><td>1         </td><td>15.01350  </td></tr>\n",
       "\t<tr><td>2016-06-20</td><td>59343001  </td><td>1         </td><td>15.03714  </td></tr>\n",
       "\t<tr><td>2016-06-20</td><td>67124001  </td><td>1         </td><td>11.59923  </td></tr>\n",
       "</tbody>\n",
       "</table>\n"
      ],
      "text/latex": [
       "\\begin{tabular}{r|llll}\n",
       " date & insee & ech & tH2\\_obs\\\\\n",
       "\\hline\n",
       "\t 2016-06-20 & 6088001    & 1          & 18.48918  \\\\\n",
       "\t 2016-06-20 & 31069001   & 1          & 13.84956  \\\\\n",
       "\t 2016-06-20 & 33281001   & 1          & 12.59624  \\\\\n",
       "\t 2016-06-20 & 35281001   & 1          & 15.01350  \\\\\n",
       "\t 2016-06-20 & 59343001   & 1          & 15.03714  \\\\\n",
       "\t 2016-06-20 & 67124001   & 1          & 11.59923  \\\\\n",
       "\\end{tabular}\n"
      ],
      "text/markdown": [
       "\n",
       "date | insee | ech | tH2_obs | \n",
       "|---|---|---|---|---|---|\n",
       "| 2016-06-20 | 6088001    | 1          | 18.48918   | \n",
       "| 2016-06-20 | 31069001   | 1          | 13.84956   | \n",
       "| 2016-06-20 | 33281001   | 1          | 12.59624   | \n",
       "| 2016-06-20 | 35281001   | 1          | 15.01350   | \n",
       "| 2016-06-20 | 59343001   | 1          | 15.03714   | \n",
       "| 2016-06-20 | 67124001   | 1          | 11.59923   | \n",
       "\n",
       "\n"
      ],
      "text/plain": [
       "  date       insee    ech tH2_obs \n",
       "1 2016-06-20 6088001  1   18.48918\n",
       "2 2016-06-20 31069001 1   13.84956\n",
       "3 2016-06-20 33281001 1   12.59624\n",
       "4 2016-06-20 35281001 1   15.01350\n",
       "5 2016-06-20 59343001 1   15.03714\n",
       "6 2016-06-20 67124001 1   11.59923"
      ]
     },
     "metadata": {},
     "output_type": "display_data"
    }
   ],
   "source": [
    "head(submiss)"
   ]
  },
  {
   "cell_type": "code",
   "execution_count": 28,
   "metadata": {
    "collapsed": true
   },
   "outputs": [],
   "source": [
    "# write.table(submiss, file = \"./new_sub.csv\", row.names = F, sep=\";\", dec = \".\", quote = F)"
   ]
  },
  {
   "cell_type": "code",
   "execution_count": null,
   "metadata": {
    "collapsed": true
   },
   "outputs": [],
   "source": []
  },
  {
   "cell_type": "code",
   "execution_count": null,
   "metadata": {
    "collapsed": true
   },
   "outputs": [],
   "source": []
  },
  {
   "cell_type": "code",
   "execution_count": null,
   "metadata": {
    "collapsed": true
   },
   "outputs": [],
   "source": []
  },
  {
   "cell_type": "code",
   "execution_count": null,
   "metadata": {
    "collapsed": true
   },
   "outputs": [],
   "source": []
  },
  {
   "cell_type": "markdown",
   "metadata": {},
   "source": [
    "Imputation de valeurs manquantes"
   ]
  },
  {
   "cell_type": "code",
   "execution_count": 29,
   "metadata": {
    "collapsed": true,
    "scrolled": false
   },
   "outputs": [],
   "source": [
    "df <- read.csv(\"./Sakhir/data/final_train.csv\", sep=\";\", dec = \".\")\n",
    "# str(df)"
   ]
  },
  {
   "cell_type": "code",
   "execution_count": 30,
   "metadata": {
    "collapsed": true
   },
   "outputs": [],
   "source": [
    "df <- df %>% mutate(\n",
    "    date = as.Date(date, \"%Y-%m-%d\"),\n",
    "    insee = as.factor(as.character(insee)),\n",
    "    ddH10_rose4 = as.factor(as.character(ddH10_rose4)),\n",
    "    ech = as.numeric(ech)\n",
    ")\n",
    "df$ecart <- df$tH2_obs-df$tH2\n",
    "# prop.table(table(df$ddH10_rose4, useNA = \"ifany\"))*100"
   ]
  },
  {
   "cell_type": "code",
   "execution_count": 31,
   "metadata": {},
   "outputs": [
    {
     "name": "stdout",
     "output_type": "stream",
     "text": [
      "'data.frame':\t21950 obs. of  32 variables:\n",
      " $ date           : Date, format: \"2014-03-19\" \"2014-03-19\" ...\n",
      " $ insee          : Factor w/ 7 levels \"31069001\",\"33281001\",..: 5 1 2 3 4 6 7 5 1 2 ...\n",
      " $ tH2_obs        : num  13.8 9.9 9.9 6.7 8.9 ...\n",
      " $ capeinsSOL0    : num  NA NA NA NA NA NA NA NA NA NA ...\n",
      " $ ciwcH20        : num  0 0 0 0 0 0 0 0 0 0 ...\n",
      " $ clwcH20        : num  0 0 0 0 0 0 0 0 0 0 ...\n",
      " $ ddH10_rose4    : Factor w/ 4 levels \"1\",\"2\",\"3\",\"4\": 2 4 1 4 4 4 4 1 2 4 ...\n",
      " $ ffH10          : num  1 2.43 2.22 3.1 5.48 ...\n",
      " $ flir1SOL0      : num  -35348 -31937 -11913 -274297 -296271 ...\n",
      " $ fllat1SOL0     : num  -21912 -28363 -305 7788 -882 ...\n",
      " $ flsen1SOL0     : num  -7018 20495 32944 38217 170904 ...\n",
      " $ flvis1SOL0     : num  3.6e-12 3.6e-12 3.6e-12 3.6e-12 3.6e-12 ...\n",
      " $ hcoulimSOL0    : num  482.5 822.7 1156 84.1 647.9 ...\n",
      " $ huH2           : num  90.5 88.5 78.4 88 80 ...\n",
      " $ iwcSOL0        : num  0 0 0 0 0 0 0 0 0 0 ...\n",
      " $ nbSOL0_HMoy    : num  7.2771 7.9932 7.8151 2.0468 0.0697 ...\n",
      " $ nH20           : num  0 0 0 0 0 0 0 0 0 0 ...\n",
      " $ ntSOL0_HMoy    : num  7.398 8 7.995 2.049 0.241 ...\n",
      " $ pMER0          : num  1019 1029 1030 1028 1022 ...\n",
      " $ rr1SOL0        : num  0.0219 0.0114 0 0 0 ...\n",
      " $ rrH20          : num  0 0 0 0 0 0 0 0 0 0 ...\n",
      " $ tH2            : num  14.06 9.74 9.38 6.37 8.69 ...\n",
      " $ tH2_VGrad_2.100: num  -1.1876 -0.5851 0.5108 1.9396 0.0284 ...\n",
      " $ tH2_XGrad      : num  0.000411 0.000216 0.00227 0.002786 0.000152 ...\n",
      " $ tH2_YGrad      : num  4.77e-05 -9.21e-04 2.99e-04 1.51e-03 3.47e-04 ...\n",
      " $ tpwHPA850      : num  11.09 9.07 5.79 8.02 5.71 ...\n",
      " $ ux1H10         : num  -2.61 5.78 1.92 4.47 9.56 ...\n",
      " $ vapcSOL0       : num  17.3 15.4 10.5 12 12.8 ...\n",
      " $ vx1H10         : num  1.44338 -0.52564 -3.20161 0.27908 -0.00577 ...\n",
      " $ ech            : num  1 1 1 1 1 1 1 1 1 1 ...\n",
      " $ mois           : Factor w/ 9 levels \"aoÃ»t\",\"avril\",..: 7 7 7 7 7 7 7 7 7 7 ...\n",
      " $ ecart          : num  -0.256 0.157 0.522 0.326 0.214 ...\n"
     ]
    }
   ],
   "source": [
    "str(df)"
   ]
  },
  {
   "cell_type": "code",
   "execution_count": 34,
   "metadata": {},
   "outputs": [
    {
     "data": {
      "image/png": "[encoded data removed]",
      "text/plain": [
       "plot without title"
      ]
     },
     "metadata": {},
     "output_type": "display_data"
    }
   ],
   "source": [
    "marginplot(cbind(df$tH2_YGrad, df$fllat1SOL0))"
   ]
  },
  {
   "cell_type": "code",
   "execution_count": 36,
   "metadata": {},
   "outputs": [
    {
     "name": "stdout",
     "output_type": "stream",
     "text": [
      "\n",
      " iter imp variable\n",
      "  1   1  tH2_obs"
     ]
    },
    {
     "name": "stderr",
     "output_type": "stream",
     "text": [
      "Warning message in FUN(newX[, i], ...):\n",
      "\"NAs introduits lors de la conversion automatique\""
     ]
    },
    {
     "ename": "ERROR",
     "evalue": "Error in FUN(newX[, i], ...): 'x' must be numeric\n",
     "output_type": "error",
     "traceback": [
      "Error in FUN(newX[, i], ...): 'x' must be numeric\nTraceback:\n",
      "1. mice(df, m = 5, maxit = 50, meth = \"pmm\", seed = 500)",
      "2. sampler(p, data, m, imp, r, visitSequence, c(from, to), printFlag, \n .     ...)",
      "3. remove.lindep(x, y, ry, ...)",
      "4. suppressWarnings((unlist(apply(xobs, 2, cor, yobs)) < maxcor))",
      "5. withCallingHandlers(expr, warning = function(w) invokeRestart(\"muffleWarning\"))",
      "6. unlist(apply(xobs, 2, cor, yobs))",
      "7. apply(xobs, 2, cor, yobs)",
      "8. FUN(newX[, i], ...)",
      "9. stop(\"'x' must be numeric\")"
     ]
    }
   ],
   "source": [
    "# Imputing the missing values\n",
    "#methods(mice)\n",
    "tempX <- mice(df, m=5, maxit=50, meth='pmm', seed=500)\n",
    "summary(tempX)\n",
    "# tempX$imp$tH2\n",
    "# tempX$meth"
   ]
  },
  {
   "cell_type": "code",
   "execution_count": null,
   "metadata": {
    "collapsed": true
   },
   "outputs": [],
   "source": [
    "xyplot(tempX,tH2_obs ~ capeinsSOL0 + tH2 + tpwHPA850, pch=1, cex=1)"
   ]
  },
  {
   "cell_type": "code",
   "execution_count": 37,
   "metadata": {},
   "outputs": [
    {
     "ename": "ERROR",
     "evalue": "Error in densityplot(tempX): objet 'tempX' introuvable\n",
     "output_type": "error",
     "traceback": [
      "Error in densityplot(tempX): objet 'tempX' introuvable\nTraceback:\n",
      "1. densityplot(tempX)"
     ]
    }
   ],
   "source": [
    "densityplot(tempX)"
   ]
  },
  {
   "cell_type": "code",
   "execution_count": 38,
   "metadata": {},
   "outputs": [
    {
     "ename": "ERROR",
     "evalue": "Error in stripplot(tempX, pch = 20, cex = 1.2): objet 'tempX' introuvable\n",
     "output_type": "error",
     "traceback": [
      "Error in stripplot(tempX, pch = 20, cex = 1.2): objet 'tempX' introuvable\nTraceback:\n",
      "1. stripplot(tempX, pch = 20, cex = 1.2)"
     ]
    }
   ],
   "source": [
    "stripplot(tempX, pch = 20, cex = 1.2)"
   ]
  },
  {
   "cell_type": "code",
   "execution_count": 39,
   "metadata": {
    "scrolled": true
   },
   "outputs": [
    {
     "ename": "ERROR",
     "evalue": "Error in inherits(x, \"mids\"): objet 'tempX' introuvable\n",
     "output_type": "error",
     "traceback": [
      "Error in inherits(x, \"mids\"): objet 'tempX' introuvable\nTraceback:\n",
      "1. complete(tempX, 2)",
      "2. is.mids(x)",
      "3. inherits(x, \"mids\")"
     ]
    }
   ],
   "source": [
    "completedX <- complete(tempX,2)\n",
    "newdf <- cbind(df$date, df$insee, completedX, df$ech, df$mois)"
   ]
  },
  {
   "cell_type": "code",
   "execution_count": null,
   "metadata": {
    "collapsed": true
   },
   "outputs": [],
   "source": []
  },
  {
   "cell_type": "code",
   "execution_count": null,
   "metadata": {
    "collapsed": true
   },
   "outputs": [],
   "source": []
  },
  {
   "cell_type": "code",
   "execution_count": null,
   "metadata": {
    "collapsed": true
   },
   "outputs": [],
   "source": []
  },
  {
   "cell_type": "code",
   "execution_count": null,
   "metadata": {
    "collapsed": true
   },
   "outputs": [],
   "source": []
  },
  {
   "cell_type": "code",
   "execution_count": null,
   "metadata": {
    "collapsed": true
   },
   "outputs": [],
   "source": []
  }
 ],
 "metadata": {
  "kernelspec": {
   "display_name": "R",
   "language": "R",
   "name": "ir"
  },
  "language_info": {
   "codemirror_mode": "r",
   "file_extension": ".r",
   "mimetype": "text/x-r-source",
   "name": "R",
   "pygments_lexer": "r",
   "version": "3.4.1"
  }
 },
 "nbformat": 4,
 "nbformat_minor": 2
}
