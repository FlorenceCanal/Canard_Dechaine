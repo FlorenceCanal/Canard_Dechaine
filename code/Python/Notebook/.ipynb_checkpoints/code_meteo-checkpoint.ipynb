{
 "cells": [
  {
   "cell_type": "markdown",
   "metadata": {},
   "source": [
    "# TEAM SAKHIR\n",
    "## Challenge - Prédictions Météo France"
   ]
  },
  {
   "cell_type": "code",
   "execution_count": 1,
   "metadata": {
    "scrolled": true
   },
   "outputs": [
    {
     "name": "stderr",
     "output_type": "stream",
     "text": [
      "C:\\Users\\mbriens\\AppData\\Local\\Continuum\\Anaconda3\\lib\\site-packages\\sklearn\\cross_validation.py:41: DeprecationWarning: This module was deprecated in version 0.18 in favor of the model_selection module into which all the refactored classes and functions are moved. Also note that the interface of the new CV iterators are different from that of this module. This module will be removed in 0.20.\n",
      "  \"This module will be removed in 0.20.\", DeprecationWarning)\n",
      "Using TensorFlow backend.\n"
     ]
    }
   ],
   "source": [
    "import numpy as np\n",
    "import pandas as pd\n",
    "from time import time\n",
    "import datetime\n",
    "from math import sqrt\n",
    "import pickle\n",
    "import matplotlib.pyplot as plt\n",
    "from sklearn.model_selection import train_test_split\n",
    "from sklearn.metrics import mean_squared_error, explained_variance_score\n",
    "from sklearn.preprocessing import StandardScaler, Imputer\n",
    "from sklearn.ensemble import RandomForestRegressor, GradientBoostingRegressor, AdaBoostRegressor\n",
    "import xgboost as xgb\n",
    "from xgboost import plot_importance\n",
    "from keras.models import Sequential, load_model\n",
    "from keras.layers.core import Dense, Dropout\n",
    "from keras.optimizers import RMSprop\n",
    "\n",
    "t0 = time()"
   ]
  },
  {
   "cell_type": "markdown",
   "metadata": {},
   "source": [
    "L'objectif de ce projet est de prédire correctement les prévisions météorologoiques en matière de températures, et ce dans 7 grandes villes de France.\n",
    "Pour ce faire, il est possible d'appliquer des méthodes d'apprentissage automatique, qui permettent d'étudier finement les liens entre les variables à disposition, et la température, afin d'obtenir la prédiction la plus fiable possible."
   ]
  },
  {
   "cell_type": "markdown",
   "metadata": {},
   "source": [
    "Toutes les informations relatives à la compétition peuvent être trouvées ici : https://defibigdata2018.insa-toulouse.fr/"
   ]
  },
  {
   "cell_type": "markdown",
   "metadata": {},
   "source": [
    "Nous avons testé de nombreuses méthodes, tant au niveau de l'imputation des valeurs manquantes, de la suppression des valeurs extrêmes (outliers), que de la modélisation des méthodes de prédictions. Nous avons utilisé à la fois R et Python."
   ]
  },
  {
   "cell_type": "markdown",
   "metadata": {},
   "source": [
    "Les méthodes que nous avons retenues à terme ont été codées sur Python, et c'est ce pourquoi le rapport final prend la forme d'un notebook Python. Cependant des commentaires préciserons certaines autres méthodes qui ont été implémentées en plus de celles codées ici."
   ]
  },
  {
   "cell_type": "markdown",
   "metadata": {},
   "source": [
    "## I. Load data "
   ]
  },
  {
   "cell_type": "markdown",
   "metadata": {},
   "source": [
    "La première étape est de charger les données. Les données d'apprentissage étant réparties en 36 fichiers, correspondant aux 36 échéances à prédire, il a fallu regrouper ces données. De plus, pour simplifier les étapes de pré-processing, il est intéressant de regrouper les données d'apprentissage, et celles de test (sans oublier de les annoter, pour pouvoir les séparer avant l'étape de modélisation)."
   ]
  },
  {
   "cell_type": "code",
   "execution_count": 2,
   "metadata": {
    "scrolled": true
   },
   "outputs": [
    {
     "data": {
      "text/html": [
       "<div>\n",
       "<style>\n",
       "    .dataframe thead tr:only-child th {\n",
       "        text-align: right;\n",
       "    }\n",
       "\n",
       "    .dataframe thead th {\n",
       "        text-align: left;\n",
       "    }\n",
       "\n",
       "    .dataframe tbody tr th {\n",
       "        vertical-align: top;\n",
       "    }\n",
       "</style>\n",
       "<table border=\"1\" class=\"dataframe\">\n",
       "  <thead>\n",
       "    <tr style=\"text-align: right;\">\n",
       "      <th></th>\n",
       "      <th>capeinsSOL0</th>\n",
       "      <th>ciwcH20</th>\n",
       "      <th>clwcH20</th>\n",
       "      <th>date</th>\n",
       "      <th>ddH10_rose4</th>\n",
       "      <th>ech</th>\n",
       "      <th>ffH10</th>\n",
       "      <th>flir1SOL0</th>\n",
       "      <th>fllat1SOL0</th>\n",
       "      <th>flsen1SOL0</th>\n",
       "      <th>...</th>\n",
       "      <th>tH2</th>\n",
       "      <th>tH2_VGrad_2.100</th>\n",
       "      <th>tH2_XGrad</th>\n",
       "      <th>tH2_YGrad</th>\n",
       "      <th>tH2_obs</th>\n",
       "      <th>test</th>\n",
       "      <th>tpwHPA850</th>\n",
       "      <th>ux1H10</th>\n",
       "      <th>vapcSOL0</th>\n",
       "      <th>vx1H10</th>\n",
       "    </tr>\n",
       "  </thead>\n",
       "  <tbody>\n",
       "    <tr>\n",
       "      <th>0</th>\n",
       "      <td>0.198757</td>\n",
       "      <td>0.0</td>\n",
       "      <td>0.000000</td>\n",
       "      <td>2014-01-01</td>\n",
       "      <td>4.0</td>\n",
       "      <td>1</td>\n",
       "      <td>1.970260</td>\n",
       "      <td>-386960.595711</td>\n",
       "      <td>-94260.682523</td>\n",
       "      <td>-40545.510054</td>\n",
       "      <td>...</td>\n",
       "      <td>9.034338</td>\n",
       "      <td>-0.084999</td>\n",
       "      <td>0.007725</td>\n",
       "      <td>-0.013024</td>\n",
       "      <td>5.5</td>\n",
       "      <td>0</td>\n",
       "      <td>3.852825</td>\n",
       "      <td>1.330320</td>\n",
       "      <td>10.664653</td>\n",
       "      <td>-2.853134</td>\n",
       "    </tr>\n",
       "    <tr>\n",
       "      <th>1</th>\n",
       "      <td>8.590036</td>\n",
       "      <td>0.0</td>\n",
       "      <td>0.000000</td>\n",
       "      <td>2014-01-01</td>\n",
       "      <td>3.0</td>\n",
       "      <td>1</td>\n",
       "      <td>2.755962</td>\n",
       "      <td>-200181.123871</td>\n",
       "      <td>2282.951687</td>\n",
       "      <td>14399.918192</td>\n",
       "      <td>...</td>\n",
       "      <td>3.853128</td>\n",
       "      <td>1.396138</td>\n",
       "      <td>0.005036</td>\n",
       "      <td>0.000810</td>\n",
       "      <td>4.8</td>\n",
       "      <td>0</td>\n",
       "      <td>8.476699</td>\n",
       "      <td>-2.040020</td>\n",
       "      <td>15.462043</td>\n",
       "      <td>3.019614</td>\n",
       "    </tr>\n",
       "    <tr>\n",
       "      <th>2</th>\n",
       "      <td>69.203856</td>\n",
       "      <td>0.0</td>\n",
       "      <td>0.000001</td>\n",
       "      <td>2014-01-01</td>\n",
       "      <td>3.0</td>\n",
       "      <td>1</td>\n",
       "      <td>3.411283</td>\n",
       "      <td>-62310.340297</td>\n",
       "      <td>9483.691316</td>\n",
       "      <td>64790.365136</td>\n",
       "      <td>...</td>\n",
       "      <td>8.585184</td>\n",
       "      <td>0.387329</td>\n",
       "      <td>0.001372</td>\n",
       "      <td>0.000010</td>\n",
       "      <td>8.9</td>\n",
       "      <td>0</td>\n",
       "      <td>7.643070</td>\n",
       "      <td>3.029610</td>\n",
       "      <td>17.343600</td>\n",
       "      <td>4.889849</td>\n",
       "    </tr>\n",
       "    <tr>\n",
       "      <th>3</th>\n",
       "      <td>65.270316</td>\n",
       "      <td>0.0</td>\n",
       "      <td>0.000000</td>\n",
       "      <td>2014-01-01</td>\n",
       "      <td>3.0</td>\n",
       "      <td>1</td>\n",
       "      <td>4.655633</td>\n",
       "      <td>-61612.120075</td>\n",
       "      <td>-48356.475831</td>\n",
       "      <td>127450.659115</td>\n",
       "      <td>...</td>\n",
       "      <td>7.304130</td>\n",
       "      <td>-0.089267</td>\n",
       "      <td>0.000401</td>\n",
       "      <td>-0.000067</td>\n",
       "      <td>6.8</td>\n",
       "      <td>0</td>\n",
       "      <td>7.089030</td>\n",
       "      <td>-1.027446</td>\n",
       "      <td>13.981847</td>\n",
       "      <td>8.079973</td>\n",
       "    </tr>\n",
       "    <tr>\n",
       "      <th>4</th>\n",
       "      <td>5.932505</td>\n",
       "      <td>0.0</td>\n",
       "      <td>0.000000</td>\n",
       "      <td>2014-01-01</td>\n",
       "      <td>3.0</td>\n",
       "      <td>1</td>\n",
       "      <td>5.855930</td>\n",
       "      <td>-39553.109955</td>\n",
       "      <td>-1022.914242</td>\n",
       "      <td>117800.171480</td>\n",
       "      <td>...</td>\n",
       "      <td>5.829715</td>\n",
       "      <td>-0.489606</td>\n",
       "      <td>0.000204</td>\n",
       "      <td>-0.000191</td>\n",
       "      <td>5.4</td>\n",
       "      <td>0</td>\n",
       "      <td>4.546075</td>\n",
       "      <td>2.802554</td>\n",
       "      <td>9.941609</td>\n",
       "      <td>7.955489</td>\n",
       "    </tr>\n",
       "  </tbody>\n",
       "</table>\n",
       "<p>5 rows × 32 columns</p>\n",
       "</div>"
      ],
      "text/plain": [
       "   capeinsSOL0  ciwcH20   clwcH20        date ddH10_rose4  ech     ffH10  \\\n",
       "0     0.198757      0.0  0.000000  2014-01-01         4.0    1  1.970260   \n",
       "1     8.590036      0.0  0.000000  2014-01-01         3.0    1  2.755962   \n",
       "2    69.203856      0.0  0.000001  2014-01-01         3.0    1  3.411283   \n",
       "3    65.270316      0.0  0.000000  2014-01-01         3.0    1  4.655633   \n",
       "4     5.932505      0.0  0.000000  2014-01-01         3.0    1  5.855930   \n",
       "\n",
       "       flir1SOL0    fllat1SOL0     flsen1SOL0    ...          tH2  \\\n",
       "0 -386960.595711 -94260.682523  -40545.510054    ...     9.034338   \n",
       "1 -200181.123871   2282.951687   14399.918192    ...     3.853128   \n",
       "2  -62310.340297   9483.691316   64790.365136    ...     8.585184   \n",
       "3  -61612.120075 -48356.475831  127450.659115    ...     7.304130   \n",
       "4  -39553.109955  -1022.914242  117800.171480    ...     5.829715   \n",
       "\n",
       "   tH2_VGrad_2.100  tH2_XGrad  tH2_YGrad  tH2_obs test  tpwHPA850    ux1H10  \\\n",
       "0        -0.084999   0.007725  -0.013024      5.5    0   3.852825  1.330320   \n",
       "1         1.396138   0.005036   0.000810      4.8    0   8.476699 -2.040020   \n",
       "2         0.387329   0.001372   0.000010      8.9    0   7.643070  3.029610   \n",
       "3        -0.089267   0.000401  -0.000067      6.8    0   7.089030 -1.027446   \n",
       "4        -0.489606   0.000204  -0.000191      5.4    0   4.546075  2.802554   \n",
       "\n",
       "    vapcSOL0    vx1H10  \n",
       "0  10.664653 -2.853134  \n",
       "1  15.462043  3.019614  \n",
       "2  17.343600  4.889849  \n",
       "3  13.981847  8.079973  \n",
       "4   9.941609  7.955489  \n",
       "\n",
       "[5 rows x 32 columns]"
      ]
     },
     "execution_count": 2,
     "metadata": {},
     "output_type": "execute_result"
    }
   ],
   "source": [
    "Train = []\n",
    "for i in range(1, 37):\n",
    "    Train.append(pd.read_csv('C:/Users/mbriens/Documents/M2/Apprentissage/Projet/GIT/Sakhir/data/train/train_{}.csv'.format(i), sep=';', decimal=\",\"))\n",
    "\n",
    "train = pd.concat(Train)\n",
    "train['test'] = 0\n",
    "\n",
    "X_test = pd.read_csv('C:/Users/mbriens/Documents/M2/Apprentissage/Projet/GIT/Sakhir/data/test/test.csv', sep=';', decimal=\",\")\n",
    "X_test['test'] = 1\n",
    "\n",
    "df = pd.concat([train, X_test])\n",
    "\n",
    "df['flvis1SOL0'] = df['flvis1SOL0'].apply(lambda x: float(str(x).replace(',', '.')))\n",
    "df.head()"
   ]
  },
  {
   "cell_type": "markdown",
   "metadata": {},
   "source": [
    "Avant de faire quoique ce soit de plus, il est très important de visualiser les données à notre disposition, pour mieux en comprendre le sens. Cela peut permettre de commencer à appréhender les liens entre différentes variables, ainsi que de mettre en avant quelques variables susceptibles d'être plus pertinentes que d'autres."
   ]
  },
  {
   "cell_type": "markdown",
   "metadata": {},
   "source": [
    "Le code suivant permet de visualiser quelques variables les unes par rapport aux autres. Les données, tout comme les variables, étant assez nombreuses, le code n'a pas été exécuté ici. De plus, la majeure partie du travail d'exploration des données a été fait sur R."
   ]
  },
  {
   "cell_type": "code",
   "execution_count": 3,
   "metadata": {},
   "outputs": [],
   "source": [
    "# plt.figure(figsize=(15,10))\n",
    "# sns.pairplot(df[0:200], hue='insee')\n",
    "# plt.show()\n",
    "# g = sns.pairplot(df['Pclass', 'Sex', 'Age', 'Parch', 'Fare', 'Embarked'],\n",
    "#                  hue='Survived',\n",
    "#                  palette = 'seismic',\n",
    "#                  size=1.2,\n",
    "#                  diag_kind='kde',\n",
    "#                  diag_kws=dict(shade=True),\n",
    "#                  plot_kws=dict(s=10))\n",
    "# g.set(xticklabels=[])"
   ]
  },
  {
   "cell_type": "markdown",
   "metadata": {},
   "source": [
    "Nous avons pu remarquer que les variables 'tH2', et 'tH2_obs' sont très corrélées. Cette information est capitale, puisque c'est  la variable 'tH2' que nous souhaitons prédire. En réalité, la variable 'tH2_obs' correspond à la prédiction effectuée par l'un des modèles de Météo France. La prédiction que nous devons effectuer doit permettre d'améliorer la précision de ce modèle.\n",
    "\n",
    "C'est d'aillieurs ainsi que nous avons pu constater une anomalie au sein des données : nous n'avons que de très rares observations pour les échéances supérieures à 30 dans le jeu d'apprentissage.\n",
    "\n",
    "Cela a posé quelques problèmes, car nous n'avions pas toujours 36 observations pour un même jour : les informations étaient parfois tronquées. Lorsque nous avons tenté de mettre en place une régression linéaire à effets mixtes sur R (par localisation, et par suite d'échéances), il n'a pas été possible de l'appliquer correctement sur les données, a cause de ce manque d'informations."
   ]
  },
  {
   "cell_type": "markdown",
   "metadata": {},
   "source": [
    "## II. Add data"
   ]
  },
  {
   "cell_type": "markdown",
   "metadata": {},
   "source": [
    "Les données dont nous disposons peuvent être modifiées, ou de nouvelles informations peuvent en être déduites. Cela pouvant améliorer la précision lors de la modélisation, nous avons décidé d'apporter des modifications, telles que l'ajout d'informations relatives à la saison de l'observation, ou de l'emplacement des villes étudiées, ainsi que quelques informations météorologiques sur celles-ci."
   ]
  },
  {
   "cell_type": "markdown",
   "metadata": {},
   "source": [
    "De plus, certaines variables (ici ne restent que la saison et l'année, mais dans le cas ou l'emplacement des villes n'aurait pas été recodé par les latitudes et longitudes de celles-ci, la variable du code insee des villes aurait été concernée également) ne sont pas continues. Afin de pouvoir traiter les variables qualitatives, il est nécessaire de les binariser : c'est-à-dire créer, pour chaque variable, autant de nouvelles variables que de modalités, et de les remplir par des valeurs binaires. La fonction 'get_dummies' permet d'appliquer facilement ces modifications, pour éviter tout problème de confusion par la suite."
   ]
  },
  {
   "cell_type": "code",
   "execution_count": 4,
   "metadata": {},
   "outputs": [],
   "source": [
    "df['seasons'] = df['mois'].map({'janvier': 'hiver', 'février': 'hiver', 'mars': 'printemps', 'avril': 'printemps', 'mai': 'printemps', 'juin': 'été', 'juillet': 'été', \"août\": \"été\", \"septembre\": \"automne\", \"octobre\": \"automne\", \"novembre\": \"automne\", \"décembre\": \"hiver\"})\n",
    "df['year'] = df['date'].apply(lambda x: x[:4])\n",
    "\n",
    "df['city'] = df['insee'].map({6088001: 'Nice', 31069001: 'Toulouse', 33281001: 'Bordeaux', 35281001: 'Rennes', 59343001: 'Lille', 67124001: 'Strasbourg', 75114001: 'Paris'})\n",
    "df['lat'] = df['city'].map({'Nice': 43.66510, 'Toulouse': 43.63799, 'Bordeaux': 44.83137, 'Rennes': 48.06560, 'Lille': 50.57178, 'Strasbourg': 48.53943, 'Paris': 48.82231})\n",
    "df['lon'] = df['city'].map({'Nice': 7.2133184, 'Toulouse': 1.3719825, 'Bordeaux': -0.6920608, 'Rennes': -1.7232451, 'Lille': 3.1060870, 'Strasbourg': 7.6280226, 'Paris': 2.3378563})\n",
    "df['fleuve'] = df['city'].map({'Nice': 0, 'Toulouse': 1, 'Bordeaux': 1, 'Rennes': 0, 'Lille': 0, 'Strasbourg': 1, 'Paris': 1})\n",
    "df['distmer'] = df['city'].map({'Nice': 0, 'Toulouse': 150, 'Bordeaux': 65, 'Rennes': 70, 'Lille': 80, 'Strasbourg': 540, 'Paris': 200})\n",
    "\n",
    "# Source : http://www.linternaute.com/voyage/climat/comparaison/toulouse/rennes/2015/ville-31555/ville-35238\n",
    "df['ensoleillement16'] = df['city'].map({'Nice': 2771, 'Toulouse': 2100, 'Bordeaux': 2022, 'Rennes': 1679, 'Lille': 1653, 'Strasbourg': 1625, 'Paris': 1726})\n",
    "df['ensoleillement15'] = df['city'].map({'Nice': 2917, 'Toulouse': 2238, 'Bordeaux': 2151, 'Rennes': 1851, 'Lille': 1739, 'Strasbourg': 1886, 'Paris': 1953})\n",
    "df['precipitations16'] = df['city'].map({'Nice': 484, 'Toulouse': 577, 'Bordeaux': 922, 'Rennes': 625, 'Lille': 836, 'Strasbourg': 730, 'Paris': 658})\n",
    "df['precipitations15'] = df['city'].map({'Nice': 669, 'Toulouse': 511, 'Bordeaux': 592, 'Rennes': 596, 'Lille': 786, 'Strasbourg': 475, 'Paris': 507})\n",
    "\n",
    "df = pd.concat([df, pd.get_dummies(df[['seasons', 'year']])], axis=1)\n",
    "df = df.drop('seasons', 1)\n",
    "df = df.drop('mois', 1)\n",
    "df = df.drop('year', 1)\n",
    "df = df.drop('city', 1)"
   ]
  },
  {
   "cell_type": "code",
   "execution_count": 5,
   "metadata": {},
   "outputs": [
    {
     "data": {
      "text/html": [
       "<div>\n",
       "<style>\n",
       "    .dataframe thead tr:only-child th {\n",
       "        text-align: right;\n",
       "    }\n",
       "\n",
       "    .dataframe thead th {\n",
       "        text-align: left;\n",
       "    }\n",
       "\n",
       "    .dataframe tbody tr th {\n",
       "        vertical-align: top;\n",
       "    }\n",
       "</style>\n",
       "<table border=\"1\" class=\"dataframe\">\n",
       "  <thead>\n",
       "    <tr style=\"text-align: right;\">\n",
       "      <th></th>\n",
       "      <th>capeinsSOL0</th>\n",
       "      <th>ciwcH20</th>\n",
       "      <th>clwcH20</th>\n",
       "      <th>date</th>\n",
       "      <th>ddH10_rose4</th>\n",
       "      <th>ech</th>\n",
       "      <th>ffH10</th>\n",
       "      <th>flir1SOL0</th>\n",
       "      <th>fllat1SOL0</th>\n",
       "      <th>flsen1SOL0</th>\n",
       "      <th>...</th>\n",
       "      <th>precipitations16</th>\n",
       "      <th>precipitations15</th>\n",
       "      <th>seasons_automne</th>\n",
       "      <th>seasons_hiver</th>\n",
       "      <th>seasons_printemps</th>\n",
       "      <th>seasons_été</th>\n",
       "      <th>year_2014</th>\n",
       "      <th>year_2015</th>\n",
       "      <th>year_2016</th>\n",
       "      <th>year_2017</th>\n",
       "    </tr>\n",
       "  </thead>\n",
       "  <tbody>\n",
       "    <tr>\n",
       "      <th>0</th>\n",
       "      <td>0.198757</td>\n",
       "      <td>0.0</td>\n",
       "      <td>0.000000</td>\n",
       "      <td>2014-01-01</td>\n",
       "      <td>4.0</td>\n",
       "      <td>1</td>\n",
       "      <td>1.970260</td>\n",
       "      <td>-386960.595711</td>\n",
       "      <td>-94260.682523</td>\n",
       "      <td>-40545.510054</td>\n",
       "      <td>...</td>\n",
       "      <td>484</td>\n",
       "      <td>669</td>\n",
       "      <td>0</td>\n",
       "      <td>1</td>\n",
       "      <td>0</td>\n",
       "      <td>0</td>\n",
       "      <td>1</td>\n",
       "      <td>0</td>\n",
       "      <td>0</td>\n",
       "      <td>0</td>\n",
       "    </tr>\n",
       "    <tr>\n",
       "      <th>1</th>\n",
       "      <td>8.590036</td>\n",
       "      <td>0.0</td>\n",
       "      <td>0.000000</td>\n",
       "      <td>2014-01-01</td>\n",
       "      <td>3.0</td>\n",
       "      <td>1</td>\n",
       "      <td>2.755962</td>\n",
       "      <td>-200181.123871</td>\n",
       "      <td>2282.951687</td>\n",
       "      <td>14399.918192</td>\n",
       "      <td>...</td>\n",
       "      <td>577</td>\n",
       "      <td>511</td>\n",
       "      <td>0</td>\n",
       "      <td>1</td>\n",
       "      <td>0</td>\n",
       "      <td>0</td>\n",
       "      <td>1</td>\n",
       "      <td>0</td>\n",
       "      <td>0</td>\n",
       "      <td>0</td>\n",
       "    </tr>\n",
       "    <tr>\n",
       "      <th>2</th>\n",
       "      <td>69.203856</td>\n",
       "      <td>0.0</td>\n",
       "      <td>0.000001</td>\n",
       "      <td>2014-01-01</td>\n",
       "      <td>3.0</td>\n",
       "      <td>1</td>\n",
       "      <td>3.411283</td>\n",
       "      <td>-62310.340297</td>\n",
       "      <td>9483.691316</td>\n",
       "      <td>64790.365136</td>\n",
       "      <td>...</td>\n",
       "      <td>922</td>\n",
       "      <td>592</td>\n",
       "      <td>0</td>\n",
       "      <td>1</td>\n",
       "      <td>0</td>\n",
       "      <td>0</td>\n",
       "      <td>1</td>\n",
       "      <td>0</td>\n",
       "      <td>0</td>\n",
       "      <td>0</td>\n",
       "    </tr>\n",
       "    <tr>\n",
       "      <th>3</th>\n",
       "      <td>65.270316</td>\n",
       "      <td>0.0</td>\n",
       "      <td>0.000000</td>\n",
       "      <td>2014-01-01</td>\n",
       "      <td>3.0</td>\n",
       "      <td>1</td>\n",
       "      <td>4.655633</td>\n",
       "      <td>-61612.120075</td>\n",
       "      <td>-48356.475831</td>\n",
       "      <td>127450.659115</td>\n",
       "      <td>...</td>\n",
       "      <td>625</td>\n",
       "      <td>596</td>\n",
       "      <td>0</td>\n",
       "      <td>1</td>\n",
       "      <td>0</td>\n",
       "      <td>0</td>\n",
       "      <td>1</td>\n",
       "      <td>0</td>\n",
       "      <td>0</td>\n",
       "      <td>0</td>\n",
       "    </tr>\n",
       "    <tr>\n",
       "      <th>4</th>\n",
       "      <td>5.932505</td>\n",
       "      <td>0.0</td>\n",
       "      <td>0.000000</td>\n",
       "      <td>2014-01-01</td>\n",
       "      <td>3.0</td>\n",
       "      <td>1</td>\n",
       "      <td>5.855930</td>\n",
       "      <td>-39553.109955</td>\n",
       "      <td>-1022.914242</td>\n",
       "      <td>117800.171480</td>\n",
       "      <td>...</td>\n",
       "      <td>836</td>\n",
       "      <td>786</td>\n",
       "      <td>0</td>\n",
       "      <td>1</td>\n",
       "      <td>0</td>\n",
       "      <td>0</td>\n",
       "      <td>1</td>\n",
       "      <td>0</td>\n",
       "      <td>0</td>\n",
       "      <td>0</td>\n",
       "    </tr>\n",
       "  </tbody>\n",
       "</table>\n",
       "<p>5 rows × 47 columns</p>\n",
       "</div>"
      ],
      "text/plain": [
       "   capeinsSOL0  ciwcH20   clwcH20        date ddH10_rose4  ech     ffH10  \\\n",
       "0     0.198757      0.0  0.000000  2014-01-01         4.0    1  1.970260   \n",
       "1     8.590036      0.0  0.000000  2014-01-01         3.0    1  2.755962   \n",
       "2    69.203856      0.0  0.000001  2014-01-01         3.0    1  3.411283   \n",
       "3    65.270316      0.0  0.000000  2014-01-01         3.0    1  4.655633   \n",
       "4     5.932505      0.0  0.000000  2014-01-01         3.0    1  5.855930   \n",
       "\n",
       "       flir1SOL0    fllat1SOL0     flsen1SOL0    ...      precipitations16  \\\n",
       "0 -386960.595711 -94260.682523  -40545.510054    ...                   484   \n",
       "1 -200181.123871   2282.951687   14399.918192    ...                   577   \n",
       "2  -62310.340297   9483.691316   64790.365136    ...                   922   \n",
       "3  -61612.120075 -48356.475831  127450.659115    ...                   625   \n",
       "4  -39553.109955  -1022.914242  117800.171480    ...                   836   \n",
       "\n",
       "   precipitations15  seasons_automne  seasons_hiver  seasons_printemps  \\\n",
       "0               669                0              1                  0   \n",
       "1               511                0              1                  0   \n",
       "2               592                0              1                  0   \n",
       "3               596                0              1                  0   \n",
       "4               786                0              1                  0   \n",
       "\n",
       "   seasons_été  year_2014  year_2015  year_2016  year_2017  \n",
       "0            0          1          0          0          0  \n",
       "1            0          1          0          0          0  \n",
       "2            0          1          0          0          0  \n",
       "3            0          1          0          0          0  \n",
       "4            0          1          0          0          0  \n",
       "\n",
       "[5 rows x 47 columns]"
      ]
     },
     "execution_count": 5,
     "metadata": {},
     "output_type": "execute_result"
    }
   ],
   "source": [
    "df.head()"
   ]
  },
  {
   "cell_type": "markdown",
   "metadata": {},
   "source": [
    "## III. Deal with missing values"
   ]
  },
  {
   "cell_type": "markdown",
   "metadata": {},
   "source": [
    "De nombreuses valeurs manquantes ont été observées dans les données, tant dans le jeu d'apprentissage que dans le jeu de test. Certaines variables sont plus concernées que d'autres. C'est notamment le cas de la variable 'capeinsSOL0', pour laquelle on observe un fort taux de valeurs manquantes, au sein de l'échantillon d'apprentissage.\n",
    "\n",
    "Même s'il est question de réfléchir à une méthode pour imputer les valeurs manquantes, remplacer autant de valeurs manquantes pourrait créer un biais dans nos données. Dans un premier temps, nous avons donc décidé de retirer toutes les variables ayant plus de 5% de valeurs manquantes, sans tenter de les imputer. Nous avons également utilisé le package 'MICE' de R, afin d'imputer le observations manquantes des variables restantes.\n",
    "\n",
    "Plusieurs méthodes (de nombreuses méthodes d'imputations sont disponibles à partir du package 'MICE') ont été testées, telles que les méthodes 'pmm' (predictive mean matching), ou 'cart' (basée sur des arbres de décision). Finalement, il semble que des résultats satisfaisants soient obtenus à partir d'une simple imputation par moyenne. C'est donc ce qui est effectué dans le code suivant (l'imputation est effectuée conjointement sur l'échantillon d'apprentissage et de test, pour plus de cohérence)."
   ]
  },
  {
   "cell_type": "code",
   "execution_count": 7,
   "metadata": {},
   "outputs": [
    {
     "data": {
      "text/plain": [
       "capeinsSOL0          18788\n",
       "ciwcH20                973\n",
       "clwcH20               4480\n",
       "date                     0\n",
       "ddH10_rose4           4578\n",
       "ech                      0\n",
       "ffH10                 4578\n",
       "flir1SOL0             1260\n",
       "fllat1SOL0            1159\n",
       "flsen1SOL0            1227\n",
       "flvis1SOL0            1197\n",
       "hcoulimSOL0            973\n",
       "huH2                  4557\n",
       "insee                    0\n",
       "iwcSOL0                973\n",
       "nH20                 10787\n",
       "nbSOL0_HMoy            987\n",
       "ntSOL0_HMoy            987\n",
       "pMER0                 4809\n",
       "rr1SOL0               3955\n",
       "rrH20                 4487\n",
       "tH2                   4557\n",
       "tH2_VGrad_2.100       4564\n",
       "tH2_XGrad             4557\n",
       "tH2_YGrad             4557\n",
       "tH2_obs              21188\n",
       "test                     0\n",
       "tpwHPA850             1022\n",
       "ux1H10                4578\n",
       "vapcSOL0               994\n",
       "vx1H10                4564\n",
       "lat                      0\n",
       "lon                      0\n",
       "fleuve                   0\n",
       "distmer                  0\n",
       "ensoleillement16         0\n",
       "ensoleillement15         0\n",
       "precipitations16         0\n",
       "precipitations15         0\n",
       "seasons_automne          0\n",
       "seasons_hiver            0\n",
       "seasons_printemps        0\n",
       "seasons_été              0\n",
       "year_2014                0\n",
       "year_2015                0\n",
       "year_2016                0\n",
       "year_2017                0\n",
       "dtype: int64"
      ]
     },
     "execution_count": 7,
     "metadata": {},
     "output_type": "execute_result"
    }
   ],
   "source": [
    "df.isnull().sum()"
   ]
  },
  {
   "cell_type": "code",
   "execution_count": 8,
   "metadata": {},
   "outputs": [],
   "source": [
    "numeric_features = ['tH2', 'capeinsSOL0', 'ciwcH20', 'clwcH20', 'nH20',\n",
    "                    'pMER0', 'rr1SOL0', 'rrH20', 'tpwHPA850', 'ux1H10',\n",
    "                    'vapcSOL0', 'vx1H10', 'ddH10_rose4', 'ffH10', 'flir1SOL0',\n",
    "                    'fllat1SOL0', 'flsen1SOL0', 'flvis1SOL0', 'hcoulimSOL0',\n",
    "                    'huH2', 'iwcSOL0', 'nbSOL0_HMoy', 'ntSOL0_HMoy',\n",
    "                    'tH2_VGrad_2.100', 'tH2_XGrad', 'tH2_YGrad']\n",
    "qualitative_features = ['insee', 'mois']\n",
    "imput = Imputer(missing_values='NaN', strategy='mean', axis=0)\n",
    "imput.fit(df[numeric_features])\n",
    "df[numeric_features] = imput.transform(df[numeric_features])\n",
    "\n",
    "numeric_features.remove('tH2')\n",
    "\n",
    "scale_num = StandardScaler()\n",
    "scale_num.fit(df[numeric_features])\n",
    "df[numeric_features] = scale_num.transform(df[numeric_features])"
   ]
  },
  {
   "cell_type": "code",
   "execution_count": 9,
   "metadata": {},
   "outputs": [
    {
     "data": {
      "text/html": [
       "<div>\n",
       "<style>\n",
       "    .dataframe thead tr:only-child th {\n",
       "        text-align: right;\n",
       "    }\n",
       "\n",
       "    .dataframe thead th {\n",
       "        text-align: left;\n",
       "    }\n",
       "\n",
       "    .dataframe tbody tr th {\n",
       "        vertical-align: top;\n",
       "    }\n",
       "</style>\n",
       "<table border=\"1\" class=\"dataframe\">\n",
       "  <thead>\n",
       "    <tr style=\"text-align: right;\">\n",
       "      <th></th>\n",
       "      <th>capeinsSOL0</th>\n",
       "      <th>ciwcH20</th>\n",
       "      <th>clwcH20</th>\n",
       "      <th>date</th>\n",
       "      <th>ddH10_rose4</th>\n",
       "      <th>ech</th>\n",
       "      <th>ffH10</th>\n",
       "      <th>flir1SOL0</th>\n",
       "      <th>fllat1SOL0</th>\n",
       "      <th>flsen1SOL0</th>\n",
       "      <th>...</th>\n",
       "      <th>precipitations16</th>\n",
       "      <th>precipitations15</th>\n",
       "      <th>seasons_automne</th>\n",
       "      <th>seasons_hiver</th>\n",
       "      <th>seasons_printemps</th>\n",
       "      <th>seasons_été</th>\n",
       "      <th>year_2014</th>\n",
       "      <th>year_2015</th>\n",
       "      <th>year_2016</th>\n",
       "      <th>year_2017</th>\n",
       "    </tr>\n",
       "  </thead>\n",
       "  <tbody>\n",
       "    <tr>\n",
       "      <th>0</th>\n",
       "      <td>-0.436028</td>\n",
       "      <td>-0.047738</td>\n",
       "      <td>-0.169298</td>\n",
       "      <td>2014-01-01</td>\n",
       "      <td>1.204948</td>\n",
       "      <td>1</td>\n",
       "      <td>-0.676134</td>\n",
       "      <td>-1.251936</td>\n",
       "      <td>0.237479</td>\n",
       "      <td>0.154694</td>\n",
       "      <td>...</td>\n",
       "      <td>484</td>\n",
       "      <td>669</td>\n",
       "      <td>0</td>\n",
       "      <td>1</td>\n",
       "      <td>0</td>\n",
       "      <td>0</td>\n",
       "      <td>1</td>\n",
       "      <td>0</td>\n",
       "      <td>0</td>\n",
       "      <td>0</td>\n",
       "    </tr>\n",
       "    <tr>\n",
       "      <th>1</th>\n",
       "      <td>-0.375665</td>\n",
       "      <td>-0.047738</td>\n",
       "      <td>-0.169298</td>\n",
       "      <td>2014-01-01</td>\n",
       "      <td>0.308010</td>\n",
       "      <td>1</td>\n",
       "      <td>-0.286001</td>\n",
       "      <td>0.139384</td>\n",
       "      <td>0.641719</td>\n",
       "      <td>0.382360</td>\n",
       "      <td>...</td>\n",
       "      <td>577</td>\n",
       "      <td>511</td>\n",
       "      <td>0</td>\n",
       "      <td>1</td>\n",
       "      <td>0</td>\n",
       "      <td>0</td>\n",
       "      <td>1</td>\n",
       "      <td>0</td>\n",
       "      <td>0</td>\n",
       "      <td>0</td>\n",
       "    </tr>\n",
       "    <tr>\n",
       "      <th>2</th>\n",
       "      <td>0.060368</td>\n",
       "      <td>-0.047738</td>\n",
       "      <td>-0.141592</td>\n",
       "      <td>2014-01-01</td>\n",
       "      <td>0.308010</td>\n",
       "      <td>1</td>\n",
       "      <td>0.039393</td>\n",
       "      <td>1.166383</td>\n",
       "      <td>0.671869</td>\n",
       "      <td>0.591152</td>\n",
       "      <td>...</td>\n",
       "      <td>922</td>\n",
       "      <td>592</td>\n",
       "      <td>0</td>\n",
       "      <td>1</td>\n",
       "      <td>0</td>\n",
       "      <td>0</td>\n",
       "      <td>1</td>\n",
       "      <td>0</td>\n",
       "      <td>0</td>\n",
       "      <td>0</td>\n",
       "    </tr>\n",
       "    <tr>\n",
       "      <th>3</th>\n",
       "      <td>0.032072</td>\n",
       "      <td>-0.047738</td>\n",
       "      <td>-0.169298</td>\n",
       "      <td>2014-01-01</td>\n",
       "      <td>0.308010</td>\n",
       "      <td>1</td>\n",
       "      <td>0.657263</td>\n",
       "      <td>1.171584</td>\n",
       "      <td>0.429686</td>\n",
       "      <td>0.850785</td>\n",
       "      <td>...</td>\n",
       "      <td>625</td>\n",
       "      <td>596</td>\n",
       "      <td>0</td>\n",
       "      <td>1</td>\n",
       "      <td>0</td>\n",
       "      <td>0</td>\n",
       "      <td>1</td>\n",
       "      <td>0</td>\n",
       "      <td>0</td>\n",
       "      <td>0</td>\n",
       "    </tr>\n",
       "    <tr>\n",
       "      <th>4</th>\n",
       "      <td>-0.394782</td>\n",
       "      <td>-0.047738</td>\n",
       "      <td>-0.169298</td>\n",
       "      <td>2014-01-01</td>\n",
       "      <td>0.308010</td>\n",
       "      <td>1</td>\n",
       "      <td>1.253260</td>\n",
       "      <td>1.335902</td>\n",
       "      <td>0.627877</td>\n",
       "      <td>0.810798</td>\n",
       "      <td>...</td>\n",
       "      <td>836</td>\n",
       "      <td>786</td>\n",
       "      <td>0</td>\n",
       "      <td>1</td>\n",
       "      <td>0</td>\n",
       "      <td>0</td>\n",
       "      <td>1</td>\n",
       "      <td>0</td>\n",
       "      <td>0</td>\n",
       "      <td>0</td>\n",
       "    </tr>\n",
       "  </tbody>\n",
       "</table>\n",
       "<p>5 rows × 47 columns</p>\n",
       "</div>"
      ],
      "text/plain": [
       "   capeinsSOL0   ciwcH20   clwcH20        date  ddH10_rose4  ech     ffH10  \\\n",
       "0    -0.436028 -0.047738 -0.169298  2014-01-01     1.204948    1 -0.676134   \n",
       "1    -0.375665 -0.047738 -0.169298  2014-01-01     0.308010    1 -0.286001   \n",
       "2     0.060368 -0.047738 -0.141592  2014-01-01     0.308010    1  0.039393   \n",
       "3     0.032072 -0.047738 -0.169298  2014-01-01     0.308010    1  0.657263   \n",
       "4    -0.394782 -0.047738 -0.169298  2014-01-01     0.308010    1  1.253260   \n",
       "\n",
       "   flir1SOL0  fllat1SOL0  flsen1SOL0    ...      precipitations16  \\\n",
       "0  -1.251936    0.237479    0.154694    ...                   484   \n",
       "1   0.139384    0.641719    0.382360    ...                   577   \n",
       "2   1.166383    0.671869    0.591152    ...                   922   \n",
       "3   1.171584    0.429686    0.850785    ...                   625   \n",
       "4   1.335902    0.627877    0.810798    ...                   836   \n",
       "\n",
       "   precipitations15  seasons_automne  seasons_hiver  seasons_printemps  \\\n",
       "0               669                0              1                  0   \n",
       "1               511                0              1                  0   \n",
       "2               592                0              1                  0   \n",
       "3               596                0              1                  0   \n",
       "4               786                0              1                  0   \n",
       "\n",
       "   seasons_été  year_2014  year_2015  year_2016  year_2017  \n",
       "0            0          1          0          0          0  \n",
       "1            0          1          0          0          0  \n",
       "2            0          1          0          0          0  \n",
       "3            0          1          0          0          0  \n",
       "4            0          1          0          0          0  \n",
       "\n",
       "[5 rows x 47 columns]"
      ]
     },
     "execution_count": 9,
     "metadata": {},
     "output_type": "execute_result"
    }
   ],
   "source": [
    "df.head()"
   ]
  },
  {
   "cell_type": "markdown",
   "metadata": {},
   "source": [
    "## IV. Split train & test and prepare for modeling"
   ]
  },
  {
   "cell_type": "markdown",
   "metadata": {},
   "source": [
    "Avant de passer à la modélisation, il reste à séparer les jeux de test et d'apprentissage.\n",
    "\n",
    "D'autre part, il ne faut pas oublier que l'une des variables à notre disposition correspond à la prédiction faite par l'un des modèles de Météo-France, et est très corrélée à la variable à expliquer. Bien que cette corrélation soit très utile, il semble plus pertinent de ne pas prédire directement la température, mais plutot la correction à apporter à la prédiction faite par le modèle de Météo-France. C'est ce pourquoi nous avons créé la variable 'ecart', qui sera donc notre variable cible."
   ]
  },
  {
   "cell_type": "code",
   "execution_count": 10,
   "metadata": {},
   "outputs": [
    {
     "name": "stdout",
     "output_type": "stream",
     "text": [
      "Size of train : 189280\n"
     ]
    }
   ],
   "source": [
    "X_test = df[df['test'] == 1].drop('test', 1)\n",
    "train = df[df['test'] == 0].drop('test', 1)\n",
    "date = train['date']\n",
    "\n",
    "\n",
    "def to_time(date):\n",
    "    return datetime.datetime.strptime(date, '%Y-%m-%d').date()\n",
    "\n",
    "train['date'] = date.map(to_time, date.all())\n",
    "\n",
    "X_test_date = X_test['date']\n",
    "X_test_ech = X_test['ech']\n",
    "X_test_insee = X_test['insee']\n",
    "X_test = X_test.drop('date', 1).drop('insee', 1).drop('tH2_obs', 1)\n",
    "\n",
    "train['ecart'] = train['tH2_obs'] - train['tH2']\n",
    "train['ecart'] = np.nan_to_num(train['ecart'])\n",
    "print('Size of train : '+str(len(train)))\n",
    "\n",
    "train = train.drop('tH2_obs', 1).drop('insee', 1).drop('date', 1)"
   ]
  },
  {
   "cell_type": "markdown",
   "metadata": {},
   "source": [
    "## V. Delete outliers from train set (isolation forest)"
   ]
  },
  {
   "cell_type": "markdown",
   "metadata": {},
   "source": [
    "Avant de procéder à la modélisation, nous avons fait quelques tentatives en supprimant les valeurs extrêmes, pouvant être considérées comme des outilers. Il semblait intéressant de ne restreindre l'apprentissage qu'aux individus les plus standards, pour améliorer la robustesse des modèles établis par la suite. Cependant, ce choix ne s'est pas avéré payant, puisque les essais ont conduit à de très mauvais scores.\n",
    "\n",
    "Soit l'idée est critiquable, soit la méthode a été mal implémentée. Quoiqu'il en soit, voici le code qui a été testé."
   ]
  },
  {
   "cell_type": "code",
   "execution_count": 11,
   "metadata": {},
   "outputs": [],
   "source": [
    "# clf = IsolationForest(max_samples = 100, random_state = 3)\n",
    "# clf.fit(train)\n",
    "# y_noano = clf.predict(train)\n",
    "# y_noano = pd.DataFrame(y_noano, columns = ['Top'])\n",
    "# y_noano[y_noano['Top'] == 1].index.values\n",
    "# train = train.iloc[y_noano[y_noano['Top'] == 1].index.values]\n",
    "# train.reset_index(drop = True, inplace = True)\n",
    "# print(\"Number of Outliers:\", y_noano[y_noano['Top'] == -1].shape[0])\n",
    "# print(\"Number of rows without outliers:\", train.shape[0])"
   ]
  },
  {
   "cell_type": "markdown",
   "metadata": {},
   "source": [
    "## VI. Split train & validation sets"
   ]
  },
  {
   "cell_type": "markdown",
   "metadata": {},
   "source": [
    "Avant de passer à la modélisation, il est indispensable de procéder à la création d'un échantillon d'apprentissage, et d'un échantillon de validation. Cela permet d'éviter tout surapprentissage, et de pouvoir tester nos modèles sur des données, pour avoir un aperçu de la précision de ces modèles (avant la soumission des résultats).\n",
    "\n",
    "Lors de la paramétrisation des différents modèles présentés ci-dessous, nous avons utilisé la validation croisée (5-fold la plupart du temps), afin de s'assurer que les mesures de précisions n'étaient pas trop dépendantes de l'échantillonnage, et ainsi, de s'assurer d'une certaine robustesse des modèles."
   ]
  },
  {
   "cell_type": "code",
   "execution_count": 12,
   "metadata": {},
   "outputs": [
    {
     "data": {
      "text/html": [
       "<div>\n",
       "<style>\n",
       "    .dataframe thead tr:only-child th {\n",
       "        text-align: right;\n",
       "    }\n",
       "\n",
       "    .dataframe thead th {\n",
       "        text-align: left;\n",
       "    }\n",
       "\n",
       "    .dataframe tbody tr th {\n",
       "        vertical-align: top;\n",
       "    }\n",
       "</style>\n",
       "<table border=\"1\" class=\"dataframe\">\n",
       "  <thead>\n",
       "    <tr style=\"text-align: right;\">\n",
       "      <th></th>\n",
       "      <th>capeinsSOL0</th>\n",
       "      <th>ciwcH20</th>\n",
       "      <th>clwcH20</th>\n",
       "      <th>ddH10_rose4</th>\n",
       "      <th>ech</th>\n",
       "      <th>ffH10</th>\n",
       "      <th>flir1SOL0</th>\n",
       "      <th>fllat1SOL0</th>\n",
       "      <th>flsen1SOL0</th>\n",
       "      <th>flvis1SOL0</th>\n",
       "      <th>...</th>\n",
       "      <th>precipitations16</th>\n",
       "      <th>precipitations15</th>\n",
       "      <th>seasons_automne</th>\n",
       "      <th>seasons_hiver</th>\n",
       "      <th>seasons_printemps</th>\n",
       "      <th>seasons_été</th>\n",
       "      <th>year_2014</th>\n",
       "      <th>year_2015</th>\n",
       "      <th>year_2016</th>\n",
       "      <th>year_2017</th>\n",
       "    </tr>\n",
       "  </thead>\n",
       "  <tbody>\n",
       "    <tr>\n",
       "      <th>3326</th>\n",
       "      <td>-0.256129</td>\n",
       "      <td>-0.047738</td>\n",
       "      <td>-0.169298</td>\n",
       "      <td>0.308010</td>\n",
       "      <td>9</td>\n",
       "      <td>-1.445468</td>\n",
       "      <td>-1.726048</td>\n",
       "      <td>-0.854190</td>\n",
       "      <td>-0.904759</td>\n",
       "      <td>1.932188</td>\n",
       "      <td>...</td>\n",
       "      <td>577</td>\n",
       "      <td>511</td>\n",
       "      <td>0</td>\n",
       "      <td>0</td>\n",
       "      <td>1</td>\n",
       "      <td>0</td>\n",
       "      <td>0</td>\n",
       "      <td>1</td>\n",
       "      <td>0</td>\n",
       "      <td>0</td>\n",
       "    </tr>\n",
       "    <tr>\n",
       "      <th>3958</th>\n",
       "      <td>-0.254942</td>\n",
       "      <td>-0.047738</td>\n",
       "      <td>0.141598</td>\n",
       "      <td>0.308010</td>\n",
       "      <td>30</td>\n",
       "      <td>-0.275087</td>\n",
       "      <td>1.493985</td>\n",
       "      <td>0.468929</td>\n",
       "      <td>0.232874</td>\n",
       "      <td>-0.491594</td>\n",
       "      <td>...</td>\n",
       "      <td>625</td>\n",
       "      <td>596</td>\n",
       "      <td>0</td>\n",
       "      <td>0</td>\n",
       "      <td>0</td>\n",
       "      <td>1</td>\n",
       "      <td>0</td>\n",
       "      <td>1</td>\n",
       "      <td>0</td>\n",
       "      <td>0</td>\n",
       "    </tr>\n",
       "    <tr>\n",
       "      <th>4586</th>\n",
       "      <td>-0.437437</td>\n",
       "      <td>-0.047738</td>\n",
       "      <td>-0.169298</td>\n",
       "      <td>-0.588929</td>\n",
       "      <td>16</td>\n",
       "      <td>-0.393806</td>\n",
       "      <td>-0.640181</td>\n",
       "      <td>0.470015</td>\n",
       "      <td>0.282513</td>\n",
       "      <td>-0.281971</td>\n",
       "      <td>...</td>\n",
       "      <td>577</td>\n",
       "      <td>511</td>\n",
       "      <td>0</td>\n",
       "      <td>1</td>\n",
       "      <td>0</td>\n",
       "      <td>0</td>\n",
       "      <td>0</td>\n",
       "      <td>1</td>\n",
       "      <td>0</td>\n",
       "      <td>0</td>\n",
       "    </tr>\n",
       "    <tr>\n",
       "      <th>3548</th>\n",
       "      <td>0.000000</td>\n",
       "      <td>-0.047738</td>\n",
       "      <td>-0.169298</td>\n",
       "      <td>1.204948</td>\n",
       "      <td>11</td>\n",
       "      <td>-0.761269</td>\n",
       "      <td>-3.020785</td>\n",
       "      <td>-0.156576</td>\n",
       "      <td>-4.557322</td>\n",
       "      <td>3.265953</td>\n",
       "      <td>...</td>\n",
       "      <td>658</td>\n",
       "      <td>507</td>\n",
       "      <td>0</td>\n",
       "      <td>0</td>\n",
       "      <td>1</td>\n",
       "      <td>0</td>\n",
       "      <td>0</td>\n",
       "      <td>1</td>\n",
       "      <td>0</td>\n",
       "      <td>0</td>\n",
       "    </tr>\n",
       "    <tr>\n",
       "      <th>2670</th>\n",
       "      <td>-0.279501</td>\n",
       "      <td>-0.047738</td>\n",
       "      <td>0.000000</td>\n",
       "      <td>0.000000</td>\n",
       "      <td>26</td>\n",
       "      <td>0.000000</td>\n",
       "      <td>0.001008</td>\n",
       "      <td>0.653073</td>\n",
       "      <td>0.485240</td>\n",
       "      <td>-0.610856</td>\n",
       "      <td>...</td>\n",
       "      <td>625</td>\n",
       "      <td>596</td>\n",
       "      <td>0</td>\n",
       "      <td>1</td>\n",
       "      <td>0</td>\n",
       "      <td>0</td>\n",
       "      <td>0</td>\n",
       "      <td>1</td>\n",
       "      <td>0</td>\n",
       "      <td>0</td>\n",
       "    </tr>\n",
       "  </tbody>\n",
       "</table>\n",
       "<p>5 rows × 43 columns</p>\n",
       "</div>"
      ],
      "text/plain": [
       "      capeinsSOL0   ciwcH20   clwcH20  ddH10_rose4  ech     ffH10  flir1SOL0  \\\n",
       "3326    -0.256129 -0.047738 -0.169298     0.308010    9 -1.445468  -1.726048   \n",
       "3958    -0.254942 -0.047738  0.141598     0.308010   30 -0.275087   1.493985   \n",
       "4586    -0.437437 -0.047738 -0.169298    -0.588929   16 -0.393806  -0.640181   \n",
       "3548     0.000000 -0.047738 -0.169298     1.204948   11 -0.761269  -3.020785   \n",
       "2670    -0.279501 -0.047738  0.000000     0.000000   26  0.000000   0.001008   \n",
       "\n",
       "      fllat1SOL0  flsen1SOL0  flvis1SOL0    ...      precipitations16  \\\n",
       "3326   -0.854190   -0.904759    1.932188    ...                   577   \n",
       "3958    0.468929    0.232874   -0.491594    ...                   625   \n",
       "4586    0.470015    0.282513   -0.281971    ...                   577   \n",
       "3548   -0.156576   -4.557322    3.265953    ...                   658   \n",
       "2670    0.653073    0.485240   -0.610856    ...                   625   \n",
       "\n",
       "      precipitations15  seasons_automne  seasons_hiver  seasons_printemps  \\\n",
       "3326               511                0              0                  1   \n",
       "3958               596                0              0                  0   \n",
       "4586               511                0              1                  0   \n",
       "3548               507                0              0                  1   \n",
       "2670               596                0              1                  0   \n",
       "\n",
       "      seasons_été  year_2014  year_2015  year_2016  year_2017  \n",
       "3326            0          0          1          0          0  \n",
       "3958            1          0          1          0          0  \n",
       "4586            0          0          1          0          0  \n",
       "3548            0          0          1          0          0  \n",
       "2670            0          0          1          0          0  \n",
       "\n",
       "[5 rows x 43 columns]"
      ]
     },
     "execution_count": 12,
     "metadata": {},
     "output_type": "execute_result"
    }
   ],
   "source": [
    "y_train = train['ecart']\n",
    "X_train = train.drop('ecart', 1)\n",
    "\n",
    "X_train, X_val, y_train, y_val = train_test_split(X_train, y_train, test_size=0.20, random_state=42)\n",
    "X_train.head()"
   ]
  },
  {
   "cell_type": "code",
   "execution_count": 13,
   "metadata": {
    "scrolled": true
   },
   "outputs": [
    {
     "name": "stdout",
     "output_type": "stream",
     "text": [
      "Ready to start ML part !\n"
     ]
    }
   ],
   "source": [
    "obj_save_path = 'C:/Users/mbriens/Documents/M2/Apprentissage/Projet/GIT/Sakhir/code/Python/obj_save/'\n",
    "# pickle.dump((X_train, X_val, y_train, y_val), open(obj_save_path+'train_val_df.p', 'wb'))\n",
    "X_train, X_val, y_train, y_val = pickle.load(open(obj_save_path+'train_val_df.p', 'rb'))\n",
    "print('Ready to start ML part !')"
   ]
  },
  {
   "cell_type": "markdown",
   "metadata": {},
   "source": [
    "### A présent, passons à la modélisation des méthodes d'apprentissage !"
   ]
  },
  {
   "cell_type": "markdown",
   "metadata": {},
   "source": [
    "Comme l'indique ce message apparu dans le code, les données sont fin prêtes : nous pouvons maintenant passer à l'étape de modélisation."
   ]
  },
  {
   "cell_type": "markdown",
   "metadata": {},
   "source": [
    "Avant d'entammer cette partie, il est nécessaire de préciser qu'en plus de la validation croisée (comme précisé plus haut), le code utilisé pour obtenir les paramètres choisis ici est différent du code présenté ici. Lors de l'étape de paramétrisation des modèles, nous avons par exemple utilisé la solution 'GridSearchCV' (disponible à partir du package 'SKlearn'). Selon les méthodes en question, cette solution a pu s'avérer beaucoup trop gourmande en termes de temps de calcul. Par conséquents, la solution adoptée a été, dans la plupart des cas, de rechercher une a une la valeur idéale de chacun des paramètres par dichotomie, en fixant tous les autres paramètres. Cette méthode n'est pas parfaite, dans le cas d'effet conjoint de plusieurs paramètres sur la précision, mais cela nous a semblé être le compromis idéal, compte-tenu du temps alloué pour mener à bien ce projet."
   ]
  },
  {
   "cell_type": "markdown",
   "metadata": {},
   "source": [
    "Il est également nécessaire de préciser, comme il a été abordé plus haut, que les méthodes présentes dans le code suivant ne forment pas une liste exhaustive des méthodes qui ont pu être implémentées lors de ce projet. La première approche a été d'utiliser une régression linéaire, puis nous avons utilisé des variantes du modèle linéaire, comme le modèle à effets mixtes, la régression Lasso (L1 regularization), ou bien la régression Ridge (L2 regularization). Nous avons également implémenté un modèle d'arbre de décision. D'autre part, plusieurs méthodes renseignées ci-dessous ont été également été implémentées en R, comme la forêt aléatoire, le GradientBoosting, ou les réseaux de neurones."
   ]
  },
  {
   "cell_type": "markdown",
   "metadata": {},
   "source": [
    "## VII. ML part 1 : Random Forest"
   ]
  },
  {
   "cell_type": "code",
   "execution_count": 14,
   "metadata": {},
   "outputs": [],
   "source": [
    "model_rf = RandomForestRegressor(n_estimators=500,\n",
    "                                 max_depth=15,\n",
    "                                 min_samples_split=40,\n",
    "                                 min_samples_leaf=20,\n",
    "                                 max_leaf_nodes=1750,\n",
    "                                 bootstrap=True, oob_score=True,\n",
    "                                 random_state=321, n_jobs=4, verbose=1)\n",
    "\n",
    "# model_rf.fit(X_train, y_train)"
   ]
  },
  {
   "cell_type": "code",
   "execution_count": 15,
   "metadata": {},
   "outputs": [],
   "source": [
    "# pickle.dump(model_rf, open(obj_save_path+'model_rf.p', 'wb'))\n",
    "model_rf = pickle.load(open(obj_save_path+'model_rf.p', 'rb'))"
   ]
  },
  {
   "cell_type": "code",
   "execution_count": 16,
   "metadata": {},
   "outputs": [],
   "source": [
    "def plot_imp_rf(model_rf, X):\n",
    "    importances = model_rf.feature_importances_\n",
    "    std = np.std([tree.feature_importances_ for tree in model_rf.estimators_],\n",
    "                 axis=0)\n",
    "    indices = np.argsort(importances)[::-1]\n",
    "    names = X.columns[indices]\n",
    "    # Print the feature ranking\n",
    "    print(\"Feature ranking:\")\n",
    "    for f in range(X.shape[1]):\n",
    "        print(str(f+1)+'. feature '+str(names[f])+' ('+str(importances[indices[f]])+')')\n",
    "    # Plot the feature importances of the forest\n",
    "    plt.figure(figsize=(15, 10))\n",
    "    plt.title(\"Feature importances\")\n",
    "    plt.bar(range(X.shape[1]), importances[indices], color=\"r\", yerr=std[indices], align=\"center\")\n",
    "    plt.xticks(range(X.shape[1]), names, rotation=80)\n",
    "    plt.xlim([-1, X.shape[1]])\n",
    "    plt.show()"
   ]
  },
  {
   "cell_type": "code",
   "execution_count": 17,
   "metadata": {},
   "outputs": [
    {
     "name": "stdout",
     "output_type": "stream",
     "text": [
      "Feature ranking:\n",
      "1. feature clwcH20 (0.278107357996)\n",
      "2. feature huH2 (0.146541521698)\n",
      "3. feature tH2_YGrad (0.114940360956)\n",
      "4. feature vapcSOL0 (0.0901348832061)\n",
      "5. feature tpwHPA850 (0.0814500591217)\n",
      "6. feature fllat1SOL0 (0.0378062580368)\n",
      "7. feature tH2_VGrad_2.100 (0.03307119752)\n",
      "8. feature tH2 (0.0254516493694)\n",
      "9. feature ech (0.0198410073098)\n",
      "10. feature ensoleillement16 (0.0148959559549)\n",
      "11. feature flvis1SOL0 (0.0136281059289)\n",
      "12. feature pMER0 (0.011840304736)\n",
      "13. feature hcoulimSOL0 (0.0115236231505)\n",
      "14. feature ensoleillement15 (0.010357924431)\n",
      "15. feature flsen1SOL0 (0.0089656369418)\n",
      "16. feature vx1H10 (0.00823759574541)\n",
      "17. feature flir1SOL0 (0.00800338960758)\n",
      "18. feature nbSOL0_HMoy (0.00788323066255)\n",
      "19. feature ntSOL0_HMoy (0.00754626891039)\n",
      "20. feature capeinsSOL0 (0.00745352766691)\n",
      "21. feature ux1H10 (0.00738502541867)\n",
      "22. feature ffH10 (0.00605813127259)\n",
      "23. feature distmer (0.00602230258023)\n",
      "24. feature precipitations16 (0.00543399342301)\n",
      "25. feature ciwcH20 (0.00530383699639)\n",
      "26. feature tH2_XGrad (0.00526645978139)\n",
      "27. feature lon (0.00389312832108)\n",
      "28. feature precipitations15 (0.00370513280524)\n",
      "29. feature rr1SOL0 (0.00254155138648)\n",
      "30. feature year_2014 (0.00225590187957)\n",
      "31. feature seasons_printemps (0.00220278383084)\n",
      "32. feature nH20 (0.0018224114489)\n",
      "33. feature lat (0.00175517171248)\n",
      "34. feature seasons_automne (0.00168921507522)\n",
      "35. feature seasons_hiver (0.00163901887073)\n",
      "36. feature iwcSOL0 (0.00128485262553)\n",
      "37. feature year_2016 (0.00112878897989)\n",
      "38. feature ddH10_rose4 (0.00110880286212)\n",
      "39. feature year_2015 (0.000711828065153)\n",
      "40. feature rrH20 (0.000397204111268)\n",
      "41. feature fleuve (0.000370217972329)\n",
      "42. feature seasons_été (0.000344381630005)\n",
      "43. feature year_2017 (0.0)\n"
     ]
    },
    {
     "data": {
      "image/png": "[encoded data removed]",
      "text/plain": [
       "<matplotlib.figure.Figure at 0x260f2eba0b8>"
      ]
     },
     "metadata": {},
     "output_type": "display_data"
    }
   ],
   "source": [
    "plot_imp_rf(model_rf, X_train)\n",
    "# oob_error = 1 - model_rf.oob_score_"
   ]
  },
  {
   "cell_type": "code",
   "execution_count": 18,
   "metadata": {},
   "outputs": [],
   "source": [
    "def verif_valid(model, X_val, y_val):\n",
    "    if type(model) == Sequential:\n",
    "        X_val = np.array(X_val)\n",
    "    reality = y_val\n",
    "    predictions = model.predict(X_val)\n",
    "    if len(predictions.shape) == 2:\n",
    "        predictions = predictions[:, 0]\n",
    "    plt.hist(predictions)\n",
    "    plt.title('Histogram of Predictions')\n",
    "    plt.show()\n",
    "    plt.plot(predictions, reality, 'ro')\n",
    "    plt.xlabel('Predictions')\n",
    "    plt.ylabel('Reality')\n",
    "    plt.title('Predictions x Reality')\n",
    "    plt.plot([reality.min(), reality.max()], [reality.min(), reality.max()], 'k--', lw=4)\n",
    "    plt.show()\n",
    "    if type(model) != Sequential:\n",
    "        print('Explained var (total) = '+str(explained_variance_score(X_val['tH2']+predictions, X_val['tH2']+reality)))\n",
    "    print('Explained var (predictions) = '+str(explained_variance_score(reality, predictions)))\n",
    "    print('RMSE = '+str(sqrt(mean_squared_error(reality, predictions))))"
   ]
  },
  {
   "cell_type": "code",
   "execution_count": 19,
   "metadata": {},
   "outputs": [
    {
     "name": "stderr",
     "output_type": "stream",
     "text": [
      "[Parallel(n_jobs=4)]: Done  42 tasks      | elapsed:    0.1s\n",
      "[Parallel(n_jobs=4)]: Done 192 tasks      | elapsed:    1.0s\n",
      "[Parallel(n_jobs=4)]: Done 442 tasks      | elapsed:    2.3s\n",
      "[Parallel(n_jobs=4)]: Done 500 out of 500 | elapsed:    2.5s finished\n"
     ]
    },
    {
     "data": {
      "image/png": "[encoded data removed]",
      "text/plain": [
       "<matplotlib.figure.Figure at 0x260812f24e0>"
      ]
     },
     "metadata": {},
     "output_type": "display_data"
    },
    {
     "data": {
      "image/png": "[encoded data removed]",
      "text/plain": [
       "<matplotlib.figure.Figure at 0x26082850588>"
      ]
     },
     "metadata": {},
     "output_type": "display_data"
    },
    {
     "name": "stdout",
     "output_type": "stream",
     "text": [
      "Explained var (total) = 0.967780824774\n",
      "Explained var (predictions) = 0.67463212966\n",
      "RMSE = 1.1059303031248067\n"
     ]
    }
   ],
   "source": [
    "verif_valid(model_rf, X_val, y_val)"
   ]
  },
  {
   "cell_type": "code",
   "execution_count": 20,
   "metadata": {},
   "outputs": [
    {
     "name": "stdout",
     "output_type": "stream",
     "text": [
      "ML part. I : Random Forest, done !\n"
     ]
    }
   ],
   "source": [
    "print('ML part. I : Random Forest, done !')"
   ]
  },
  {
   "cell_type": "markdown",
   "metadata": {},
   "source": [
    "## VIII. ML part 2 : XGBoost"
   ]
  },
  {
   "cell_type": "code",
   "execution_count": 21,
   "metadata": {},
   "outputs": [],
   "source": [
    "model_xgb = xgb.XGBRegressor(base_score=0.5,\n",
    "                             subsample=0.8,\n",
    "                             max_delta_step=2,\n",
    "                             max_depth=7,\n",
    "                             min_child_weight=3,\n",
    "                             n_estimators=580,\n",
    "                             colsample_bytree=0.85,\n",
    "                             gamma=0,\n",
    "                             seed=321, silent=0)\n",
    "\n",
    "# model_xgb.fit(X_train, y_train)"
   ]
  },
  {
   "cell_type": "code",
   "execution_count": 22,
   "metadata": {},
   "outputs": [],
   "source": [
    "# pickle.dump(model_xgb, open(obj_save_path+'model_xgb.p', 'wb'))\n",
    "model_xgb = pickle.load(open(obj_save_path+'model_xgb.p', 'rb'))"
   ]
  },
  {
   "cell_type": "code",
   "execution_count": 23,
   "metadata": {},
   "outputs": [
    {
     "data": {
      "image/png": "[encoded data removed]",
      "text/plain": [
       "<matplotlib.figure.Figure at 0x26082d04320>"
      ]
     },
     "metadata": {},
     "output_type": "display_data"
    }
   ],
   "source": [
    "plot_importance(model_xgb)\n",
    "plt.show()"
   ]
  },
  {
   "cell_type": "code",
   "execution_count": 24,
   "metadata": {},
   "outputs": [
    {
     "data": {
      "image/png": "[encoded data removed]",
      "text/plain": [
       "<matplotlib.figure.Figure at 0x260801eb0f0>"
      ]
     },
     "metadata": {},
     "output_type": "display_data"
    },
    {
     "data": {
      "image/png": "[encoded data removed]",
      "text/plain": [
       "<matplotlib.figure.Figure at 0x26082f95f98>"
      ]
     },
     "metadata": {},
     "output_type": "display_data"
    },
    {
     "name": "stdout",
     "output_type": "stream",
     "text": [
      "Explained var (total) = 0.972229075438\n",
      "Explained var (predictions) = 0.718366771585\n",
      "RMSE = 1.0289219361794313\n"
     ]
    }
   ],
   "source": [
    "verif_valid(model_xgb, X_val, y_val)"
   ]
  },
  {
   "cell_type": "markdown",
   "metadata": {},
   "source": [
    "## IX. ML part 3 : Adaboost"
   ]
  },
  {
   "cell_type": "code",
   "execution_count": 25,
   "metadata": {},
   "outputs": [],
   "source": [
    "model_adab = AdaBoostRegressor(base_estimator=RandomForestRegressor(),\n",
    "                               n_estimators=300,\n",
    "                               learning_rate=0.28,\n",
    "                               loss='linear',\n",
    "                               random_state=321)\n",
    "\n",
    "# model_adab.fit(X_train, y_train)"
   ]
  },
  {
   "cell_type": "code",
   "execution_count": 26,
   "metadata": {},
   "outputs": [],
   "source": [
    "# pickle.dump(model_adab, open(obj_save_path+'model_adab.p', 'wb'))\n",
    "model_adab = pickle.load(open(obj_save_path+'model_adab.p', 'rb'))"
   ]
  },
  {
   "cell_type": "code",
   "execution_count": 27,
   "metadata": {},
   "outputs": [
    {
     "data": {
      "image/png": "[encoded data removed]",
      "text/plain": [
       "<matplotlib.figure.Figure at 0x260f444f9b0>"
      ]
     },
     "metadata": {},
     "output_type": "display_data"
    },
    {
     "data": {
      "image/png": "[encoded data removed]",
      "text/plain": [
       "<matplotlib.figure.Figure at 0x2608343b2e8>"
      ]
     },
     "metadata": {},
     "output_type": "display_data"
    },
    {
     "name": "stdout",
     "output_type": "stream",
     "text": [
      "Explained var (total) = 0.973218198411\n",
      "Explained var (predictions) = 0.729401501269\n",
      "RMSE = 1.0086116177242193\n"
     ]
    }
   ],
   "source": [
    "verif_valid(model_adab, X_val, y_val)"
   ]
  },
  {
   "cell_type": "markdown",
   "metadata": {},
   "source": [
    "## X. ML part 4 : Gradient Boosting"
   ]
  },
  {
   "cell_type": "code",
   "execution_count": 28,
   "metadata": {},
   "outputs": [],
   "source": [
    "model_gradb = GradientBoostingRegressor(loss='huber',\n",
    "                                        alpha=0.9,\n",
    "                                        learning_rate=0.6,\n",
    "                                        n_estimators=500,\n",
    "                                        subsample=0.9,\n",
    "                                        min_samples_leaf=450,\n",
    "                                        max_depth=6,\n",
    "                                        random_state=321, verbose=0)\n",
    "\n",
    "# model_gradb.fit(X_train, y_train)"
   ]
  },
  {
   "cell_type": "code",
   "execution_count": 29,
   "metadata": {},
   "outputs": [],
   "source": [
    "# pickle.dump(model_gradb, open(obj_save_path+'model_gradb.p', 'wb'))\n",
    "model_gradb = pickle.load(open(obj_save_path+'model_gradb.p', 'rb'))"
   ]
  },
  {
   "cell_type": "code",
   "execution_count": 30,
   "metadata": {},
   "outputs": [
    {
     "data": {
      "image/png": "[encoded data removed]",
      "text/plain": [
       "<matplotlib.figure.Figure at 0x26084b42710>"
      ]
     },
     "metadata": {},
     "output_type": "display_data"
    },
    {
     "data": {
      "image/png": "[encoded data removed]",
      "text/plain": [
       "<matplotlib.figure.Figure at 0x26082d1a3c8>"
      ]
     },
     "metadata": {},
     "output_type": "display_data"
    },
    {
     "name": "stdout",
     "output_type": "stream",
     "text": [
      "Explained var (total) = 0.969804283933\n",
      "Explained var (predictions) = 0.691687293474\n",
      "RMSE = 1.07659680706495\n"
     ]
    }
   ],
   "source": [
    "verif_valid(model_gradb, X_val, y_val)"
   ]
  },
  {
   "cell_type": "markdown",
   "metadata": {},
   "source": [
    "## XI. ML part 5 : Neural Network"
   ]
  },
  {
   "cell_type": "code",
   "execution_count": 31,
   "metadata": {},
   "outputs": [],
   "source": [
    "scale_x = StandardScaler()\n",
    "scale_x.fit(X_train)\n",
    "X_train_scale = pd.DataFrame(scale_x.transform(X_train))\n",
    "X_val_scale = pd.DataFrame(scale_x.transform(X_val))"
   ]
  },
  {
   "cell_type": "code",
   "execution_count": 32,
   "metadata": {},
   "outputs": [],
   "source": [
    "def nn_model():\n",
    "    seed = 321\n",
    "    np.random.seed(seed)\n",
    "    rmsprop = RMSprop(lr=0.0001)\n",
    "    # sgd=SGD(lr=0.1)\n",
    "    # kfold = StratifiedKFold(n_splits=5, shuffle=True, random_state=seed)\n",
    "    # for train, test in kfold.split(X, y):\n",
    "    model_nn = Sequential()\n",
    "    model_nn.add(Dense(300, input_dim=43, activation='relu', kernel_initializer='normal'))\n",
    "    model_nn.add(Dropout(0.3))\n",
    "    model_nn.add(Dense(200, activation='relu', kernel_initializer='normal'))\n",
    "    model_nn.add(Dropout(0.3))\n",
    "    model_nn.add(Dense(150, activation='relu', kernel_initializer='normal'))\n",
    "    model_nn.add(Dropout(0.2))\n",
    "    model_nn.add(Dense(1, kernel_initializer='normal'))\n",
    "    # Compile model\n",
    "    model_nn.compile(optimizer=rmsprop, loss='mean_squared_error')\n",
    "    return model_nn"
   ]
  },
  {
   "cell_type": "code",
   "execution_count": 33,
   "metadata": {},
   "outputs": [
    {
     "name": "stdout",
     "output_type": "stream",
     "text": [
      "_________________________________________________________________\n",
      "Layer (type)                 Output Shape              Param #   \n",
      "=================================================================\n",
      "dense_1 (Dense)              (None, 300)               13200     \n",
      "_________________________________________________________________\n",
      "dropout_1 (Dropout)          (None, 300)               0         \n",
      "_________________________________________________________________\n",
      "dense_2 (Dense)              (None, 200)               60200     \n",
      "_________________________________________________________________\n",
      "dropout_2 (Dropout)          (None, 200)               0         \n",
      "_________________________________________________________________\n",
      "dense_3 (Dense)              (None, 150)               30150     \n",
      "_________________________________________________________________\n",
      "dropout_3 (Dropout)          (None, 150)               0         \n",
      "_________________________________________________________________\n",
      "dense_4 (Dense)              (None, 1)                 151       \n",
      "=================================================================\n",
      "Total params: 103,701\n",
      "Trainable params: 103,701\n",
      "Non-trainable params: 0\n",
      "_________________________________________________________________\n"
     ]
    }
   ],
   "source": [
    "model_nn = nn_model()\n",
    "model_nn.summary()"
   ]
  },
  {
   "cell_type": "code",
   "execution_count": 34,
   "metadata": {},
   "outputs": [
    {
     "name": "stdout",
     "output_type": "stream",
     "text": [
      "Train on 101454 samples, validate on 49970 samples\n",
      "Epoch 1/300\n",
      "101454/101454 [==============================] - 28s - loss: 2.3052 - val_loss: 1.5987\n",
      "Epoch 2/300\n",
      "101454/101454 [==============================] - 41s - loss: 1.6581 - val_loss: 1.5054\n",
      "Epoch 3/300\n",
      "101454/101454 [==============================] - 32s - loss: 1.5798 - val_loss: 1.4470\n",
      "Epoch 4/300\n",
      "101454/101454 [==============================] - 27s - loss: 1.5345 - val_loss: 1.3978\n",
      "Epoch 5/300\n",
      "101454/101454 [==============================] - 29s - loss: 1.5018 - val_loss: 1.3828\n",
      "Epoch 6/300\n",
      "101454/101454 [==============================] - 20s - loss: 1.4709 - val_loss: 1.3669\n",
      "Epoch 7/300\n",
      "101454/101454 [==============================] - 18s - loss: 1.4523 - val_loss: 1.3539\n",
      "Epoch 8/300\n",
      "101454/101454 [==============================] - 19s - loss: 1.4351 - val_loss: 1.3299\n",
      "Epoch 9/300\n",
      "101454/101454 [==============================] - 23s - loss: 1.4226 - val_loss: 1.3392\n",
      "Epoch 10/300\n",
      "101454/101454 [==============================] - 19s - loss: 1.4080 - val_loss: 1.3227\n",
      "Epoch 11/300\n",
      "101454/101454 [==============================] - 22s - loss: 1.3957 - val_loss: 1.3148\n",
      "Epoch 12/300\n",
      "101454/101454 [==============================] - 20s - loss: 1.3834 - val_loss: 1.3006\n",
      "Epoch 13/300\n",
      "101454/101454 [==============================] - 20s - loss: 1.3791 - val_loss: 1.2978\n",
      "Epoch 14/300\n",
      "101454/101454 [==============================] - 21s - loss: 1.3716 - val_loss: 1.2889\n",
      "Epoch 15/300\n",
      "101454/101454 [==============================] - 20s - loss: 1.3598 - val_loss: 1.2842\n",
      "Epoch 16/300\n",
      "101454/101454 [==============================] - 22s - loss: 1.3493 - val_loss: 1.2733\n",
      "Epoch 17/300\n",
      "101454/101454 [==============================] - 23s - loss: 1.3453 - val_loss: 1.2733\n",
      "Epoch 18/300\n",
      "101454/101454 [==============================] - 18s - loss: 1.3333 - val_loss: 1.2597\n",
      "Epoch 19/300\n",
      "101454/101454 [==============================] - 19s - loss: 1.3313 - val_loss: 1.2649\n",
      "Epoch 20/300\n",
      "101454/101454 [==============================] - 20s - loss: 1.3360 - val_loss: 1.2601\n",
      "Epoch 21/300\n",
      "101454/101454 [==============================] - 20s - loss: 1.3215 - val_loss: 1.2571\n",
      "Epoch 22/300\n",
      "101454/101454 [==============================] - 21s - loss: 1.3261 - val_loss: 1.2479\n",
      "Epoch 23/300\n",
      "101454/101454 [==============================] - 20s - loss: 1.3155 - val_loss: 1.2391\n",
      "Epoch 24/300\n",
      "101454/101454 [==============================] - 18s - loss: 1.3068 - val_loss: 1.2555\n",
      "Epoch 25/300\n",
      "101454/101454 [==============================] - 18s - loss: 1.3106 - val_loss: 1.2438\n",
      "Epoch 26/300\n",
      "101454/101454 [==============================] - 18s - loss: 1.3024 - val_loss: 1.2339\n",
      "Epoch 27/300\n",
      "101454/101454 [==============================] - 20s - loss: 1.2941 - val_loss: 1.2497\n",
      "Epoch 28/300\n",
      "101454/101454 [==============================] - 21s - loss: 1.2914 - val_loss: 1.2292\n",
      "Epoch 29/300\n",
      "101454/101454 [==============================] - 19s - loss: 1.2928 - val_loss: 1.2228s: 1.292\n",
      "Epoch 30/300\n",
      "101454/101454 [==============================] - 18s - loss: 1.2888 - val_loss: 1.2279\n",
      "Epoch 31/300\n",
      "101454/101454 [==============================] - 22s - loss: 1.2849 - val_loss: 1.2167\n",
      "Epoch 32/300\n",
      "101454/101454 [==============================] - 18s - loss: 1.2793 - val_loss: 1.2183\n",
      "Epoch 33/300\n",
      "101454/101454 [==============================] - 18s - loss: 1.2731 - val_loss: 1.2234\n",
      "Epoch 34/300\n",
      "101454/101454 [==============================] - 19s - loss: 1.2706 - val_loss: 1.2090\n",
      "Epoch 35/300\n",
      "101454/101454 [==============================] - 20s - loss: 1.2677 - val_loss: 1.2065\n",
      "Epoch 36/300\n",
      "101454/101454 [==============================] - 19s - loss: 1.2687 - val_loss: 1.2029\n",
      "Epoch 37/300\n",
      "101454/101454 [==============================] - 18s - loss: 1.2614 - val_loss: 1.1977\n",
      "Epoch 38/300\n",
      "101454/101454 [==============================] - 19s - loss: 1.2620 - val_loss: 1.2150\n",
      "Epoch 39/300\n",
      "101454/101454 [==============================] - 18s - loss: 1.2523 - val_loss: 1.1934\n",
      "Epoch 40/300\n",
      "101454/101454 [==============================] - 19s - loss: 1.2532 - val_loss: 1.1976\n",
      "Epoch 41/300\n",
      "101454/101454 [==============================] - 19s - loss: 1.2549 - val_loss: 1.1906\n",
      "Epoch 42/300\n",
      "101454/101454 [==============================] - 20s - loss: 1.2474 - val_loss: 1.1942\n",
      "Epoch 43/300\n",
      "101454/101454 [==============================] - 18s - loss: 1.2447 - val_loss: 1.1894\n",
      "Epoch 44/300\n",
      "101454/101454 [==============================] - 22s - loss: 1.2501 - val_loss: 1.1990\n",
      "Epoch 45/300\n",
      "101454/101454 [==============================] - 24s - loss: 1.2367 - val_loss: 1.1895\n",
      "Epoch 46/300\n",
      "101454/101454 [==============================] - 20s - loss: 1.2428 - val_loss: 1.1917\n",
      "Epoch 47/300\n",
      "101454/101454 [==============================] - 20s - loss: 1.2365 - val_loss: 1.1826\n",
      "Epoch 48/300\n",
      "101454/101454 [==============================] - 21s - loss: 1.2401 - val_loss: 1.1791\n",
      "Epoch 49/300\n",
      "101454/101454 [==============================] - 23s - loss: 1.2302 - val_loss: 1.1883\n",
      "Epoch 50/300\n",
      "101454/101454 [==============================] - 20s - loss: 1.2339 - val_loss: 1.1799\n",
      "Epoch 51/300\n",
      "101454/101454 [==============================] - 18s - loss: 1.2265 - val_loss: 1.1813\n",
      "Epoch 52/300\n",
      "101454/101454 [==============================] - 22s - loss: 1.2280 - val_loss: 1.1810\n",
      "Epoch 53/300\n",
      "101454/101454 [==============================] - 19s - loss: 1.2264 - val_loss: 1.1776\n",
      "Epoch 54/300\n",
      "101454/101454 [==============================] - 21s - loss: 1.2264 - val_loss: 1.1783\n",
      "Epoch 55/300\n",
      "101454/101454 [==============================] - 25s - loss: 1.2227 - val_loss: 1.1756\n",
      "Epoch 56/300\n",
      "101454/101454 [==============================] - 19s - loss: 1.2175 - val_loss: 1.1721\n",
      "Epoch 57/300\n",
      "101454/101454 [==============================] - 22s - loss: 1.2194 - val_loss: 1.1709\n",
      "Epoch 58/300\n",
      "101454/101454 [==============================] - 23s - loss: 1.2189 - val_loss: 1.1671\n",
      "Epoch 59/300\n",
      "101454/101454 [==============================] - 24s - loss: 1.2124 - val_loss: 1.1630\n",
      "Epoch 60/300\n",
      "101454/101454 [==============================] - 20s - loss: 1.2151 - val_loss: 1.1636\n",
      "Epoch 61/300\n",
      "101454/101454 [==============================] - 21s - loss: 1.2088 - val_loss: 1.1798\n",
      "Epoch 62/300\n",
      "101454/101454 [==============================] - 21s - loss: 1.2061 - val_loss: 1.1685\n",
      "Epoch 63/300\n",
      "101454/101454 [==============================] - 17s - loss: 1.1993 - val_loss: 1.1634\n",
      "Epoch 64/300\n",
      "101454/101454 [==============================] - 15s - loss: 1.2057 - val_loss: 1.1620\n",
      "Epoch 65/300\n",
      "101454/101454 [==============================] - 16s - loss: 1.2034 - val_loss: 1.1534\n",
      "Epoch 66/300\n",
      "101454/101454 [==============================] - 17s - loss: 1.1988 - val_loss: 1.1553\n",
      "Epoch 67/300\n",
      "101454/101454 [==============================] - 22s - loss: 1.1963 - val_loss: 1.1495\n",
      "Epoch 68/300\n",
      "101454/101454 [==============================] - 23s - loss: 1.2014 - val_loss: 1.1698\n",
      "Epoch 69/300\n",
      "101454/101454 [==============================] - 17s - loss: 1.1988 - val_loss: 1.1576\n",
      "Epoch 70/300\n",
      "101454/101454 [==============================] - 21s - loss: 1.1982 - val_loss: 1.1497\n",
      "Epoch 71/300\n",
      "101454/101454 [==============================] - 18s - loss: 1.1929 - val_loss: 1.1481\n",
      "Epoch 72/300\n",
      "101454/101454 [==============================] - 20s - loss: 1.1896 - val_loss: 1.1462\n",
      "Epoch 73/300\n",
      "101454/101454 [==============================] - 17s - loss: 1.1908 - val_loss: 1.1483\n",
      "Epoch 74/300\n",
      "101454/101454 [==============================] - 24s - loss: 1.1906 - val_loss: 1.1474\n",
      "Epoch 75/300\n",
      "101454/101454 [==============================] - 27s - loss: 1.1874 - val_loss: 1.1384\n",
      "Epoch 76/300\n",
      "101454/101454 [==============================] - 22s - loss: 1.1914 - val_loss: 1.1521\n",
      "Epoch 77/300\n",
      "101454/101454 [==============================] - 21s - loss: 1.1860 - val_loss: 1.1413\n",
      "Epoch 78/300\n",
      "101454/101454 [==============================] - 16s - loss: 1.1811 - val_loss: 1.1466\n",
      "Epoch 79/300\n",
      "101454/101454 [==============================] - 16s - loss: 1.1755 - val_loss: 1.1407\n",
      "Epoch 80/300\n",
      "101454/101454 [==============================] - 18s - loss: 1.1749 - val_loss: 1.1379\n",
      "Epoch 81/300\n",
      "101454/101454 [==============================] - 17s - loss: 1.1788 - val_loss: 1.1378\n",
      "Epoch 82/300\n",
      "101454/101454 [==============================] - 16s - loss: 1.1772 - val_loss: 1.1408\n",
      "Epoch 83/300\n",
      "101454/101454 [==============================] - 16s - loss: 1.1792 - val_loss: 1.1413\n",
      "Epoch 84/300\n",
      "101454/101454 [==============================] - 16s - loss: 1.1780 - val_loss: 1.1690\n",
      "Epoch 85/300\n",
      "101454/101454 [==============================] - 17s - loss: 1.1718 - val_loss: 1.1385\n",
      "Epoch 86/300\n",
      "101454/101454 [==============================] - 16s - loss: 1.1765 - val_loss: 1.1361\n",
      "Epoch 87/300\n",
      "101454/101454 [==============================] - 18s - loss: 1.1770 - val_loss: 1.1293\n",
      "Epoch 88/300\n",
      "101454/101454 [==============================] - 17s - loss: 1.1676 - val_loss: 1.1319\n",
      "Epoch 89/300\n",
      "101454/101454 [==============================] - 18s - loss: 1.1680 - val_loss: 1.1403\n",
      "Epoch 90/300\n",
      "101454/101454 [==============================] - 17s - loss: 1.1725 - val_loss: 1.1279\n",
      "Epoch 91/300\n",
      "101454/101454 [==============================] - 19s - loss: 1.1679 - val_loss: 1.1329\n",
      "Epoch 92/300\n",
      "101454/101454 [==============================] - 29s - loss: 1.1639 - val_loss: 1.1346\n",
      "Epoch 93/300\n",
      "101454/101454 [==============================] - 25s - loss: 1.1609 - val_loss: 1.1307\n",
      "Epoch 94/300\n",
      "101454/101454 [==============================] - 25s - loss: 1.1639 - val_loss: 1.1261\n",
      "Epoch 95/300\n",
      "101454/101454 [==============================] - 22s - loss: 1.1624 - val_loss: 1.1378\n",
      "Epoch 96/300\n",
      "101454/101454 [==============================] - 21s - loss: 1.1655 - val_loss: 1.1277\n",
      "Epoch 97/300\n",
      "101454/101454 [==============================] - 22s - loss: 1.1612 - val_loss: 1.1198\n",
      "Epoch 98/300\n",
      "101454/101454 [==============================] - 19s - loss: 1.1568 - val_loss: 1.1332\n",
      "Epoch 99/300\n",
      "101454/101454 [==============================] - 22s - loss: 1.1565 - val_loss: 1.1315\n",
      "Epoch 100/300\n",
      "101454/101454 [==============================] - 21s - loss: 1.1523 - val_loss: 1.1255\n",
      "Epoch 101/300\n",
      "101454/101454 [==============================] - 19s - loss: 1.1544 - val_loss: 1.1208\n",
      "Epoch 102/300\n",
      "101454/101454 [==============================] - 17s - loss: 1.1517 - val_loss: 1.1332\n",
      "Epoch 103/300\n",
      "101454/101454 [==============================] - 21s - loss: 1.1539 - val_loss: 1.1305\n",
      "Epoch 104/300\n",
      "101454/101454 [==============================] - 21s - loss: 1.1557 - val_loss: 1.1240\n",
      "Epoch 105/300\n",
      "101454/101454 [==============================] - 20s - loss: 1.1447 - val_loss: 1.1228\n",
      "Epoch 106/300\n",
      "101454/101454 [==============================] - 20s - loss: 1.1550 - val_loss: 1.1199\n",
      "Epoch 107/300\n",
      "101454/101454 [==============================] - 21s - loss: 1.1482 - val_loss: 1.1304\n",
      "Epoch 108/300\n",
      "101454/101454 [==============================] - 21s - loss: 1.1495 - val_loss: 1.1155\n",
      "Epoch 109/300\n",
      "101454/101454 [==============================] - 20s - loss: 1.1445 - val_loss: 1.1236\n",
      "Epoch 110/300\n",
      "101454/101454 [==============================] - 22s - loss: 1.1477 - val_loss: 1.1320\n",
      "Epoch 111/300\n",
      "101454/101454 [==============================] - 21s - loss: 1.1420 - val_loss: 1.1266\n",
      "Epoch 112/300\n",
      "101454/101454 [==============================] - 20s - loss: 1.1426 - val_loss: 1.1169\n",
      "Epoch 113/300\n",
      "101454/101454 [==============================] - 21s - loss: 1.1467 - val_loss: 1.1148\n",
      "Epoch 114/300\n",
      "101454/101454 [==============================] - 21s - loss: 1.1413 - val_loss: 1.1245\n",
      "Epoch 115/300\n",
      "101454/101454 [==============================] - 21s - loss: 1.1478 - val_loss: 1.1150\n",
      "Epoch 116/300\n",
      "101454/101454 [==============================] - 21s - loss: 1.1447 - val_loss: 1.1181\n",
      "Epoch 117/300\n",
      "101454/101454 [==============================] - 21s - loss: 1.1437 - val_loss: 1.1154\n",
      "Epoch 118/300\n",
      "101454/101454 [==============================] - 21s - loss: 1.1412 - val_loss: 1.1141\n",
      "Epoch 119/300\n",
      "101454/101454 [==============================] - 21s - loss: 1.1445 - val_loss: 1.1209\n",
      "Epoch 120/300\n",
      "101454/101454 [==============================] - 21s - loss: 1.1456 - val_loss: 1.1187\n",
      "Epoch 121/300\n",
      "101454/101454 [==============================] - 21s - loss: 1.1366 - val_loss: 1.1148\n",
      "Epoch 122/300\n",
      "101454/101454 [==============================] - 21s - loss: 1.1381 - val_loss: 1.1082\n",
      "Epoch 123/300\n",
      "101454/101454 [==============================] - 21s - loss: 1.1375 - val_loss: 1.1101\n",
      "Epoch 124/300\n",
      "101454/101454 [==============================] - 21s - loss: 1.1363 - val_loss: 1.1177\n",
      "Epoch 125/300\n",
      "101454/101454 [==============================] - 21s - loss: 1.1365 - val_loss: 1.1072\n",
      "Epoch 126/300\n",
      "101454/101454 [==============================] - 21s - loss: 1.1391 - val_loss: 1.1108\n",
      "Epoch 127/300\n",
      "101454/101454 [==============================] - 21s - loss: 1.1408 - val_loss: 1.1134\n",
      "Epoch 128/300\n",
      "101454/101454 [==============================] - 21s - loss: 1.1271 - val_loss: 1.1030\n",
      "Epoch 129/300\n",
      "101454/101454 [==============================] - 20s - loss: 1.1303 - val_loss: 1.1086: 0s - lo\n",
      "Epoch 130/300\n",
      "101454/101454 [==============================] - 20s - loss: 1.1342 - val_loss: 1.0986\n",
      "Epoch 131/300\n",
      "101454/101454 [==============================] - 21s - loss: 1.1332 - val_loss: 1.1162\n",
      "Epoch 132/300\n",
      "101454/101454 [==============================] - 20s - loss: 1.1320 - val_loss: 1.1099\n",
      "Epoch 133/300\n",
      "101454/101454 [==============================] - 21s - loss: 1.1330 - val_loss: 1.1109\n",
      "Epoch 134/300\n",
      "101454/101454 [==============================] - 20s - loss: 1.1314 - val_loss: 1.1021\n",
      "Epoch 135/300\n",
      "101454/101454 [==============================] - 20s - loss: 1.1303 - val_loss: 1.1032\n",
      "Epoch 136/300\n",
      "101454/101454 [==============================] - 21s - loss: 1.1306 - val_loss: 1.1116\n",
      "Epoch 137/300\n",
      "101454/101454 [==============================] - 21s - loss: 1.1340 - val_loss: 1.1109\n",
      "Epoch 138/300\n",
      "101454/101454 [==============================] - 21s - loss: 1.1274 - val_loss: 1.1003\n",
      "Epoch 139/300\n",
      "101454/101454 [==============================] - 21s - loss: 1.1303 - val_loss: 1.1134\n",
      "Epoch 140/300\n",
      "101454/101454 [==============================] - 20s - loss: 1.1273 - val_loss: 1.1041s:\n",
      "Epoch 141/300\n",
      "101454/101454 [==============================] - 21s - loss: 1.1274 - val_loss: 1.0958\n",
      "Epoch 142/300\n",
      "101454/101454 [==============================] - 21s - loss: 1.1269 - val_loss: 1.1017\n",
      "Epoch 143/300\n",
      "101454/101454 [==============================] - 21s - loss: 1.1261 - val_loss: 1.1176\n",
      "Epoch 144/300\n",
      "101454/101454 [==============================] - 21s - loss: 1.1304 - val_loss: 1.1004\n",
      "Epoch 145/300\n",
      "101454/101454 [==============================] - 22s - loss: 1.1226 - val_loss: 1.1013\n",
      "Epoch 146/300\n",
      "101454/101454 [==============================] - 21s - loss: 1.1237 - val_loss: 1.1014\n",
      "Epoch 147/300\n",
      "101454/101454 [==============================] - 21s - loss: 1.1257 - val_loss: 1.1023\n",
      "Epoch 148/300\n",
      "101454/101454 [==============================] - 20s - loss: 1.1259 - val_loss: 1.0894\n",
      "Epoch 149/300\n",
      "101454/101454 [==============================] - 21s - loss: 1.1224 - val_loss: 1.1111\n",
      "Epoch 150/300\n",
      "101454/101454 [==============================] - 21s - loss: 1.1242 - val_loss: 1.1020\n",
      "Epoch 151/300\n",
      "101454/101454 [==============================] - 20s - loss: 1.1227 - val_loss: 1.0984\n",
      "Epoch 152/300\n",
      "101454/101454 [==============================] - 21s - loss: 1.1204 - val_loss: 1.0993\n",
      "Epoch 153/300\n",
      "101454/101454 [==============================] - 21s - loss: 1.1198 - val_loss: 1.1039\n",
      "Epoch 154/300\n",
      "101454/101454 [==============================] - 21s - loss: 1.1203 - val_loss: 1.1031\n",
      "Epoch 155/300\n",
      "101454/101454 [==============================] - 20s - loss: 1.1162 - val_loss: 1.0992\n",
      "Epoch 156/300\n",
      "101454/101454 [==============================] - 21s - loss: 1.1220 - val_loss: 1.1024\n",
      "Epoch 157/300\n",
      "101454/101454 [==============================] - 21s - loss: 1.1176 - val_loss: 1.0907\n",
      "Epoch 158/300\n",
      "101454/101454 [==============================] - 20s - loss: 1.1133 - val_loss: 1.1089\n",
      "Epoch 159/300\n",
      "101454/101454 [==============================] - 21s - loss: 1.1102 - val_loss: 1.0994\n",
      "Epoch 160/300\n",
      "101454/101454 [==============================] - 20s - loss: 1.1165 - val_loss: 1.1020\n",
      "Epoch 161/300\n",
      "101454/101454 [==============================] - 21s - loss: 1.1128 - val_loss: 1.0973\n",
      "Epoch 162/300\n",
      "101454/101454 [==============================] - 20s - loss: 1.1117 - val_loss: 1.0964\n",
      "Epoch 163/300\n"
     ]
    },
    {
     "name": "stdout",
     "output_type": "stream",
     "text": [
      "101454/101454 [==============================] - 21s - loss: 1.1166 - val_loss: 1.0992\n",
      "Epoch 164/300\n",
      "101454/101454 [==============================] - 21s - loss: 1.1186 - val_loss: 1.1054\n",
      "Epoch 165/300\n",
      "101454/101454 [==============================] - 21s - loss: 1.1132 - val_loss: 1.0860\n",
      "Epoch 166/300\n",
      "101454/101454 [==============================] - 20s - loss: 1.1078 - val_loss: 1.0968\n",
      "Epoch 167/300\n",
      "101454/101454 [==============================] - 23s - loss: 1.1101 - val_loss: 1.0952\n",
      "Epoch 168/300\n",
      "101454/101454 [==============================] - 22s - loss: 1.1077 - val_loss: 1.0976\n",
      "Epoch 169/300\n",
      "101454/101454 [==============================] - 21s - loss: 1.1135 - val_loss: 1.1027\n",
      "Epoch 170/300\n",
      "101454/101454 [==============================] - 20s - loss: 1.1087 - val_loss: 1.1030\n",
      "Epoch 171/300\n",
      "101454/101454 [==============================] - 22s - loss: 1.1124 - val_loss: 1.0965\n",
      "Epoch 172/300\n",
      "101454/101454 [==============================] - 24s - loss: 1.1035 - val_loss: 1.0878\n",
      "Epoch 173/300\n",
      "101454/101454 [==============================] - 21s - loss: 1.1082 - val_loss: 1.0982\n",
      "Epoch 174/300\n",
      "101454/101454 [==============================] - 23s - loss: 1.1178 - val_loss: 1.0945\n",
      "Epoch 175/300\n",
      "101454/101454 [==============================] - 20s - loss: 1.1113 - val_loss: 1.0990s\n",
      "Epoch 176/300\n",
      "101454/101454 [==============================] - 25s - loss: 1.1094 - val_loss: 1.1054\n",
      "Epoch 177/300\n",
      "101454/101454 [==============================] - 27s - loss: 1.1068 - val_loss: 1.0981\n",
      "Epoch 178/300\n",
      "101454/101454 [==============================] - 25s - loss: 1.1064 - val_loss: 1.1035\n",
      "Epoch 179/300\n",
      "101454/101454 [==============================] - 26s - loss: 1.1088 - val_loss: 1.0856\n",
      "Epoch 180/300\n",
      "101454/101454 [==============================] - 26s - loss: 1.1144 - val_loss: 1.0906\n",
      "Epoch 181/300\n",
      "101454/101454 [==============================] - 25s - loss: 1.1072 - val_loss: 1.0940\n",
      "Epoch 182/300\n",
      "101454/101454 [==============================] - 22s - loss: 1.1094 - val_loss: 1.0911s: \n",
      "Epoch 183/300\n",
      "101454/101454 [==============================] - 21s - loss: 1.1045 - val_loss: 1.1133\n",
      "Epoch 184/300\n",
      "101454/101454 [==============================] - 21s - loss: 1.1061 - val_loss: 1.0943\n",
      "Epoch 185/300\n",
      "101454/101454 [==============================] - 23s - loss: 1.1028 - val_loss: 1.0990\n",
      "Epoch 186/300\n",
      "101454/101454 [==============================] - 23s - loss: 1.1046 - val_loss: 1.0793\n",
      "Epoch 187/300\n",
      "101454/101454 [==============================] - 21s - loss: 1.1179 - val_loss: 1.1023\n",
      "Epoch 188/300\n",
      "101454/101454 [==============================] - 21s - loss: 1.1052 - val_loss: 1.0923\n",
      "Epoch 189/300\n",
      "101454/101454 [==============================] - 22s - loss: 1.0975 - val_loss: 1.0969\n",
      "Epoch 190/300\n",
      "101454/101454 [==============================] - 17s - loss: 1.1084 - val_loss: 1.0909\n",
      "Epoch 191/300\n",
      "101454/101454 [==============================] - 16s - loss: 1.1095 - val_loss: 1.0875\n",
      "Epoch 192/300\n",
      "101454/101454 [==============================] - 17s - loss: 1.0987 - val_loss: 1.0899\n",
      "Epoch 193/300\n",
      "101454/101454 [==============================] - 17s - loss: 1.1053 - val_loss: 1.0928\n",
      "Epoch 194/300\n",
      "101454/101454 [==============================] - 17s - loss: 1.1002 - val_loss: 1.0871\n",
      "Epoch 195/300\n",
      "101454/101454 [==============================] - 17s - loss: 1.0994 - val_loss: 1.0877\n",
      "Epoch 196/300\n",
      "101454/101454 [==============================] - 20s - loss: 1.1015 - val_loss: 1.0918\n",
      "Epoch 197/300\n",
      "101454/101454 [==============================] - 21s - loss: 1.1007 - val_loss: 1.0872\n",
      "Epoch 198/300\n",
      "101454/101454 [==============================] - 21s - loss: 1.0995 - val_loss: 1.0906\n",
      "Epoch 199/300\n",
      "101454/101454 [==============================] - 22s - loss: 1.0954 - val_loss: 1.0831\n",
      "Epoch 200/300\n",
      "101454/101454 [==============================] - 21s - loss: 1.0979 - val_loss: 1.0956\n",
      "Epoch 201/300\n",
      "101454/101454 [==============================] - 21s - loss: 1.0969 - val_loss: 1.0827\n",
      "Epoch 202/300\n",
      "101454/101454 [==============================] - 21s - loss: 1.1002 - val_loss: 1.0935\n",
      "Epoch 203/300\n",
      "101454/101454 [==============================] - 21s - loss: 1.0969 - val_loss: 1.0895\n",
      "Epoch 204/300\n",
      "101454/101454 [==============================] - 21s - loss: 1.1011 - val_loss: 1.0991\n",
      "Epoch 205/300\n",
      "101454/101454 [==============================] - 21s - loss: 1.0974 - val_loss: 1.0999\n",
      "Epoch 206/300\n",
      "101454/101454 [==============================] - 21s - loss: 1.0996 - val_loss: 1.0856\n",
      "Epoch 207/300\n",
      "101454/101454 [==============================] - 21s - loss: 1.0962 - val_loss: 1.1036\n",
      "Epoch 208/300\n",
      "101454/101454 [==============================] - 20s - loss: 1.0978 - val_loss: 1.0966\n",
      "Epoch 209/300\n",
      "101454/101454 [==============================] - 21s - loss: 1.0994 - val_loss: 1.0904\n",
      "Epoch 210/300\n",
      "101454/101454 [==============================] - 22s - loss: 1.0922 - val_loss: 1.0903\n",
      "Epoch 211/300\n",
      "101454/101454 [==============================] - 21s - loss: 1.0872 - val_loss: 1.0964\n",
      "Epoch 212/300\n",
      "101454/101454 [==============================] - 21s - loss: 1.0935 - val_loss: 1.0806\n",
      "Epoch 213/300\n",
      "101454/101454 [==============================] - 20s - loss: 1.0942 - val_loss: 1.0933\n",
      "Epoch 214/300\n",
      "101454/101454 [==============================] - 20s - loss: 1.0973 - val_loss: 1.0856\n",
      "Epoch 215/300\n",
      "101454/101454 [==============================] - 21s - loss: 1.0970 - val_loss: 1.0892\n",
      "Epoch 216/300\n",
      "101454/101454 [==============================] - 22s - loss: 1.0899 - val_loss: 1.0984\n",
      "Epoch 217/300\n",
      "101454/101454 [==============================] - 20s - loss: 1.0957 - val_loss: 1.0905\n",
      "Epoch 218/300\n",
      "101454/101454 [==============================] - 21s - loss: 1.0853 - val_loss: 1.0825\n",
      "Epoch 219/300\n",
      "101454/101454 [==============================] - 23s - loss: 1.0909 - val_loss: 1.0848\n",
      "Epoch 220/300\n",
      "101454/101454 [==============================] - 21s - loss: 1.0946 - val_loss: 1.0869\n",
      "Epoch 221/300\n",
      "101454/101454 [==============================] - 22s - loss: 1.0925 - val_loss: 1.0920\n",
      "Epoch 222/300\n",
      "101454/101454 [==============================] - 20s - loss: 1.0869 - val_loss: 1.0850\n",
      "Epoch 223/300\n",
      "101454/101454 [==============================] - 20s - loss: 1.0868 - val_loss: 1.0874\n",
      "Epoch 224/300\n",
      "101454/101454 [==============================] - 20s - loss: 1.0836 - val_loss: 1.0834\n",
      "Epoch 225/300\n",
      "101454/101454 [==============================] - 20s - loss: 1.0904 - val_loss: 1.0831\n",
      "Epoch 226/300\n",
      "101454/101454 [==============================] - 20s - loss: 1.0914 - val_loss: 1.0843\n",
      "Epoch 227/300\n",
      "101454/101454 [==============================] - 20s - loss: 1.0967 - val_loss: 1.0857\n",
      "Epoch 228/300\n",
      "101454/101454 [==============================] - 20s - loss: 1.0903 - val_loss: 1.1003\n",
      "Epoch 229/300\n",
      "101454/101454 [==============================] - 20s - loss: 1.0910 - val_loss: 1.0881\n",
      "Epoch 230/300\n",
      "101454/101454 [==============================] - 20s - loss: 1.0928 - val_loss: 1.0823\n",
      "Epoch 231/300\n",
      "101454/101454 [==============================] - 19s - loss: 1.0928 - val_loss: 1.0782\n",
      "Epoch 232/300\n",
      "101454/101454 [==============================] - 21s - loss: 1.0896 - val_loss: 1.0941\n",
      "Epoch 233/300\n",
      "101454/101454 [==============================] - 20s - loss: 1.0933 - val_loss: 1.0760\n",
      "Epoch 234/300\n",
      "101454/101454 [==============================] - 20s - loss: 1.0849 - val_loss: 1.0822\n",
      "Epoch 235/300\n",
      "101454/101454 [==============================] - 19s - loss: 1.0805 - val_loss: 1.0838\n",
      "Epoch 236/300\n",
      "101454/101454 [==============================] - 20s - loss: 1.0864 - val_loss: 1.0838\n",
      "Epoch 237/300\n",
      "101454/101454 [==============================] - 20s - loss: 1.0849 - val_loss: 1.0780\n",
      "Epoch 238/300\n",
      "101454/101454 [==============================] - 20s - loss: 1.0839 - val_loss: 1.0827\n",
      "Epoch 239/300\n",
      "101454/101454 [==============================] - 20s - loss: 1.0893 - val_loss: 1.0861\n",
      "Epoch 240/300\n",
      "101454/101454 [==============================] - 20s - loss: 1.0827 - val_loss: 1.0827\n",
      "Epoch 241/300\n",
      "101454/101454 [==============================] - 20s - loss: 1.0890 - val_loss: 1.0908\n",
      "Epoch 242/300\n",
      "101454/101454 [==============================] - 20s - loss: 1.0846 - val_loss: 1.0907\n",
      "Epoch 243/300\n",
      "101454/101454 [==============================] - 20s - loss: 1.0885 - val_loss: 1.0869\n",
      "Epoch 244/300\n",
      "101454/101454 [==============================] - 21s - loss: 1.0827 - val_loss: 1.0902\n",
      "Epoch 245/300\n",
      "101454/101454 [==============================] - 21s - loss: 1.0816 - val_loss: 1.0822\n",
      "Epoch 246/300\n",
      "101454/101454 [==============================] - 20s - loss: 1.0857 - val_loss: 1.0856\n",
      "Epoch 247/300\n",
      "101454/101454 [==============================] - 20s - loss: 1.0832 - val_loss: 1.0915\n",
      "Epoch 248/300\n",
      "101454/101454 [==============================] - 21s - loss: 1.0856 - val_loss: 1.0813\n",
      "Epoch 249/300\n",
      "101454/101454 [==============================] - 20s - loss: 1.0846 - val_loss: 1.0881\n",
      "Epoch 250/300\n",
      "101454/101454 [==============================] - 21s - loss: 1.0795 - val_loss: 1.0994\n",
      "Epoch 251/300\n",
      "101454/101454 [==============================] - 21s - loss: 1.0832 - val_loss: 1.1078\n",
      "Epoch 252/300\n",
      "101454/101454 [==============================] - 20s - loss: 1.0858 - val_loss: 1.0903\n",
      "Epoch 253/300\n",
      "101454/101454 [==============================] - 20s - loss: 1.0773 - val_loss: 1.0981\n",
      "Epoch 254/300\n",
      "101454/101454 [==============================] - 21s - loss: 1.0814 - val_loss: 1.0941\n",
      "Epoch 255/300\n",
      "101454/101454 [==============================] - 20s - loss: 1.0809 - val_loss: 1.0801\n",
      "Epoch 256/300\n",
      "101454/101454 [==============================] - 20s - loss: 1.0736 - val_loss: 1.0835\n",
      "Epoch 257/300\n",
      "101454/101454 [==============================] - 21s - loss: 1.0832 - val_loss: 1.0845\n",
      "Epoch 258/300\n",
      "101454/101454 [==============================] - 20s - loss: 1.0819 - val_loss: 1.0930\n",
      "Epoch 259/300\n",
      "101454/101454 [==============================] - 20s - loss: 1.0805 - val_loss: 1.0929\n",
      "Epoch 260/300\n",
      "101454/101454 [==============================] - 21s - loss: 1.0742 - val_loss: 1.0960\n",
      "Epoch 261/300\n",
      "101454/101454 [==============================] - 21s - loss: 1.0801 - val_loss: 1.1021\n",
      "Epoch 262/300\n",
      "101454/101454 [==============================] - 21s - loss: 1.0767 - val_loss: 1.0890\n",
      "Epoch 263/300\n",
      "101454/101454 [==============================] - 22s - loss: 1.0745 - val_loss: 1.0774\n",
      "Epoch 264/300\n",
      "101454/101454 [==============================] - 20s - loss: 1.0740 - val_loss: 1.0853\n",
      "Epoch 265/300\n",
      "101454/101454 [==============================] - 20s - loss: 1.0811 - val_loss: 1.0826\n",
      "Epoch 266/300\n",
      "101454/101454 [==============================] - 20s - loss: 1.0802 - val_loss: 1.0857\n",
      "Epoch 267/300\n",
      "101454/101454 [==============================] - 20s - loss: 1.0860 - val_loss: 1.1027\n",
      "Epoch 268/300\n",
      "101454/101454 [==============================] - 20s - loss: 1.0749 - val_loss: 1.0915\n",
      "Epoch 269/300\n",
      "101454/101454 [==============================] - 20s - loss: 1.0722 - val_loss: 1.0850\n",
      "Epoch 270/300\n",
      "101454/101454 [==============================] - 20s - loss: 1.0725 - val_loss: 1.0971\n",
      "Epoch 271/300\n",
      "101454/101454 [==============================] - 20s - loss: 1.0775 - val_loss: 1.0881\n",
      "Epoch 272/300\n",
      "101454/101454 [==============================] - 20s - loss: 1.0767 - val_loss: 1.0914\n",
      "Epoch 273/300\n",
      "101454/101454 [==============================] - 21s - loss: 1.0769 - val_loss: 1.0817\n",
      "Epoch 274/300\n",
      "101454/101454 [==============================] - 21s - loss: 1.0714 - val_loss: 1.0803\n",
      "Epoch 275/300\n",
      "101454/101454 [==============================] - 21s - loss: 1.0846 - val_loss: 1.0951\n",
      "Epoch 276/300\n",
      "101454/101454 [==============================] - 21s - loss: 1.0749 - val_loss: 1.0856\n",
      "Epoch 277/300\n",
      "101454/101454 [==============================] - 20s - loss: 1.0849 - val_loss: 1.0878\n",
      "Epoch 278/300\n",
      "101454/101454 [==============================] - 20s - loss: 1.0743 - val_loss: 1.1035\n",
      "Epoch 279/300\n",
      "101454/101454 [==============================] - 20s - loss: 1.0683 - val_loss: 1.0762\n",
      "Epoch 280/300\n",
      "101454/101454 [==============================] - 22s - loss: 1.0750 - val_loss: 1.0901\n",
      "Epoch 281/300\n",
      "101454/101454 [==============================] - 21s - loss: 1.0712 - val_loss: 1.0943\n",
      "Epoch 282/300\n",
      "101454/101454 [==============================] - 22s - loss: 1.0668 - val_loss: 1.0847\n",
      "Epoch 283/300\n",
      "101454/101454 [==============================] - 21s - loss: 1.0724 - val_loss: 1.1049\n",
      "Epoch 284/300\n",
      "101454/101454 [==============================] - 20s - loss: 1.0730 - val_loss: 1.0817\n",
      "Epoch 285/300\n",
      "101454/101454 [==============================] - 20s - loss: 1.0739 - val_loss: 1.1055\n",
      "Epoch 286/300\n",
      "101454/101454 [==============================] - 20s - loss: 1.0676 - val_loss: 1.0840\n",
      "Epoch 287/300\n",
      "101454/101454 [==============================] - 20s - loss: 1.0731 - val_loss: 1.0855\n",
      "Epoch 288/300\n",
      "101454/101454 [==============================] - 21s - loss: 1.0750 - val_loss: 1.0882\n",
      "Epoch 289/300\n",
      "101454/101454 [==============================] - 21s - loss: 1.0737 - val_loss: 1.0992\n",
      "Epoch 290/300\n",
      "101454/101454 [==============================] - 20s - loss: 1.0689 - val_loss: 1.0980\n",
      "Epoch 291/300\n",
      "101454/101454 [==============================] - 20s - loss: 1.0715 - val_loss: 1.0978\n",
      "Epoch 292/300\n",
      "101454/101454 [==============================] - 20s - loss: 1.0738 - val_loss: 1.0847\n",
      "Epoch 293/300\n",
      "101454/101454 [==============================] - 20s - loss: 1.0664 - val_loss: 1.1006s: \n",
      "Epoch 294/300\n",
      "101454/101454 [==============================] - 20s - loss: 1.0704 - val_loss: 1.0948\n",
      "Epoch 295/300\n",
      "101454/101454 [==============================] - 20s - loss: 1.0638 - val_loss: 1.1019\n",
      "Epoch 296/300\n",
      "101454/101454 [==============================] - 20s - loss: 1.0718 - val_loss: 1.0947\n",
      "Epoch 297/300\n",
      "101454/101454 [==============================] - 20s - loss: 1.0696 - val_loss: 1.0930\n",
      "Epoch 298/300\n",
      "101454/101454 [==============================] - 20s - loss: 1.0742 - val_loss: 1.1089\n",
      "Epoch 299/300\n",
      "101454/101454 [==============================] - 20s - loss: 1.0706 - val_loss: 1.0795\n",
      "Epoch 300/300\n",
      "101454/101454 [==============================] - 21s - loss: 1.0688 - val_loss: 1.0972\n"
     ]
    }
   ],
   "source": [
    "hist = model_nn.fit(np.array(X_train_scale), np.array(y_train),\n",
    "                    epochs=300, validation_split=0.33,\n",
    "                    shuffle=True, verbose=1)"
   ]
  },
  {
   "cell_type": "code",
   "execution_count": 35,
   "metadata": {},
   "outputs": [
    {
     "data": {
      "image/png": "[encoded data removed]",
      "text/plain": [
       "<matplotlib.figure.Figure at 0x26082f52668>"
      ]
     },
     "metadata": {},
     "output_type": "display_data"
    }
   ],
   "source": [
    "plt.plot(hist.history['loss'])\n",
    "plt.plot(hist.history['val_loss'])\n",
    "plt.title('model RMSE')\n",
    "plt.ylabel('RMSE')\n",
    "plt.xlabel('epoch')\n",
    "plt.legend(['train', 'valid'], loc='upper right')\n",
    "plt.show()"
   ]
  },
  {
   "cell_type": "code",
   "execution_count": 36,
   "metadata": {},
   "outputs": [],
   "source": [
    "# model_nn.save(obj_save_path+'model_nn.p')\n",
    "model_nn = load_model(obj_save_path+'model_nn.p')"
   ]
  },
  {
   "cell_type": "code",
   "execution_count": 37,
   "metadata": {},
   "outputs": [
    {
     "data": {
      "image/png": "[encoded data removed]",
      "text/plain": [
       "<matplotlib.figure.Figure at 0x26083220be0>"
      ]
     },
     "metadata": {},
     "output_type": "display_data"
    },
    {
     "data": {
      "image/png": "[encoded data removed]",
      "text/plain": [
       "<matplotlib.figure.Figure at 0x2608412fc50>"
      ]
     },
     "metadata": {},
     "output_type": "display_data"
    },
    {
     "name": "stdout",
     "output_type": "stream",
     "text": [
      "Explained var (predictions) = 0.706751845437\n",
      "RMSE = 1.0517185241126625\n"
     ]
    }
   ],
   "source": [
    "verif_valid(model_nn, X_val_scale, y_val)"
   ]
  },
  {
   "cell_type": "markdown",
   "metadata": {},
   "source": [
    "## XIV. ML part 6 : Stacking Model (Neural Network)"
   ]
  },
  {
   "cell_type": "code",
   "execution_count": 38,
   "metadata": {},
   "outputs": [],
   "source": [
    "def pred_ML(X):\n",
    "    model_rf = pickle.load(open(obj_save_path+'model_rf.p', 'rb'))\n",
    "    model_xgb = pickle.load(open(obj_save_path+'model_xgb.p', 'rb'))\n",
    "    model_adab = pickle.load(open(obj_save_path+'model_adab.p', 'rb'))\n",
    "    model_gradb = pickle.load(open(obj_save_path+'model_gradb.p', 'rb'))\n",
    "    model_nn = load_model(obj_save_path+'model_nn.p')\n",
    "\n",
    "    rf = pd.DataFrame(model_rf.predict(X))\n",
    "    xgb = pd.DataFrame(model_xgb.predict(X))\n",
    "    adab = pd.DataFrame(model_adab.predict(X))\n",
    "    gradb = pd.DataFrame(model_gradb.predict(X))\n",
    "    X_scale = pd.DataFrame(scale_x.transform(X))\n",
    "    nn = pd.DataFrame(model_nn.predict(np.array(X_scale))[:, 0])\n",
    "    X_stack = pd.concat([rf, xgb, adab, gradb, nn], axis=1)\n",
    "    return X_stack"
   ]
  },
  {
   "cell_type": "code",
   "execution_count": 39,
   "metadata": {},
   "outputs": [
    {
     "name": "stderr",
     "output_type": "stream",
     "text": [
      "[Parallel(n_jobs=4)]: Done  42 tasks      | elapsed:    1.0s\n",
      "[Parallel(n_jobs=4)]: Done 192 tasks      | elapsed:    3.7s\n",
      "[Parallel(n_jobs=4)]: Done 442 tasks      | elapsed:   10.0s\n",
      "[Parallel(n_jobs=4)]: Done 500 out of 500 | elapsed:   11.5s finished\n",
      "[Parallel(n_jobs=4)]: Done  42 tasks      | elapsed:    0.1s\n",
      "[Parallel(n_jobs=4)]: Done 192 tasks      | elapsed:    0.7s\n",
      "[Parallel(n_jobs=4)]: Done 442 tasks      | elapsed:    1.7s\n",
      "[Parallel(n_jobs=4)]: Done 500 out of 500 | elapsed:    1.9s finished\n",
      "[Parallel(n_jobs=4)]: Done  42 tasks      | elapsed:    0.0s\n",
      "[Parallel(n_jobs=4)]: Done 192 tasks      | elapsed:    0.2s\n",
      "[Parallel(n_jobs=4)]: Done 442 tasks      | elapsed:    0.6s\n",
      "[Parallel(n_jobs=4)]: Done 500 out of 500 | elapsed:    0.7s finished\n"
     ]
    }
   ],
   "source": [
    "X_train_stack = pred_ML(X_train)\n",
    "X_val_stack = pred_ML(X_val)\n",
    "X_test_stack = pred_ML(X_test)\n",
    "\n",
    "scale_x_stack = StandardScaler()\n",
    "scale_x_stack.fit(X_train_stack)\n",
    "X_train_stack_scale = pd.DataFrame(scale_x_stack.transform(X_train_stack))\n",
    "X_val_stack_scale = pd.DataFrame(scale_x_stack.transform(X_val_stack))\n",
    "X_test_stack_scale = pd.DataFrame(scale_x_stack.transform(X_test_stack))"
   ]
  },
  {
   "cell_type": "code",
   "execution_count": 40,
   "metadata": {},
   "outputs": [],
   "source": [
    "def stacking_nn_model():\n",
    "    seed = 321\n",
    "    np.random.seed(seed)\n",
    "    model_nn = Sequential()\n",
    "    model_nn.add(Dense(5, input_dim=5, activation='relu', kernel_initializer='normal'))\n",
    "    model_nn.add(Dense(1, kernel_initializer='normal'))\n",
    "    # Compile model\n",
    "    model_nn.compile(optimizer='adam', loss='mean_squared_error')\n",
    "    return model_nn"
   ]
  },
  {
   "cell_type": "code",
   "execution_count": 41,
   "metadata": {},
   "outputs": [
    {
     "name": "stdout",
     "output_type": "stream",
     "text": [
      "_________________________________________________________________\n",
      "Layer (type)                 Output Shape              Param #   \n",
      "=================================================================\n",
      "dense_5 (Dense)              (None, 5)                 30        \n",
      "_________________________________________________________________\n",
      "dense_6 (Dense)              (None, 1)                 6         \n",
      "=================================================================\n",
      "Total params: 36\n",
      "Trainable params: 36\n",
      "Non-trainable params: 0\n",
      "_________________________________________________________________\n"
     ]
    }
   ],
   "source": [
    "model_stack_nn = stacking_nn_model()\n",
    "model_stack_nn.summary()"
   ]
  },
  {
   "cell_type": "code",
   "execution_count": 42,
   "metadata": {},
   "outputs": [
    {
     "name": "stdout",
     "output_type": "stream",
     "text": [
      "Train on 101454 samples, validate on 49970 samples\n",
      "Epoch 1/20\n",
      "101454/101454 [==============================] - 8s - loss: 0.5627 - val_loss: 0.1376ss: -\n",
      "Epoch 2/20\n",
      "101454/101454 [==============================] - 6s - loss: 0.1322 - val_loss: 0.1191\n",
      "Epoch 3/20\n",
      "101454/101454 [==============================] - 5s - loss: 0.1257 - val_loss: 0.1210\n",
      "Epoch 4/20\n",
      "101454/101454 [==============================] - 5s - loss: 0.1246 - val_loss: 0.1156\n",
      "Epoch 5/20\n",
      "101454/101454 [==============================] - 5s - loss: 0.1239 - val_loss: 0.1153ss: 0.1\n",
      "Epoch 6/20\n",
      "101454/101454 [==============================] - 6s - loss: 0.1237 - val_loss: 0.1152\n",
      "Epoch 7/20\n",
      "101454/101454 [==============================] - 5s - loss: 0.1233 - val_loss: 0.1150\n",
      "Epoch 8/20\n",
      "101454/101454 [==============================] - 9s - loss: 0.1230 - val_loss: 0.1144\n",
      "Epoch 9/20\n",
      "101454/101454 [==============================] - 7s - loss: 0.1229 - val_loss: 0.1147\n",
      "Epoch 10/20\n",
      "101454/101454 [==============================] - 6s - loss: 0.1226 - val_loss: 0.1144\n",
      "Epoch 11/20\n",
      "101454/101454 [==============================] - 6s - loss: 0.1222 - val_loss: 0.1135\n",
      "Epoch 12/20\n",
      "101454/101454 [==============================] - 4s - loss: 0.1221 - val_loss: 0.1140\n",
      "Epoch 13/20\n",
      "101454/101454 [==============================] - 5s - loss: 0.1220 - val_loss: 0.1139\n",
      "Epoch 14/20\n",
      "101454/101454 [==============================] - 5s - loss: 0.1219 - val_loss: 0.1140\n",
      "Epoch 15/20\n",
      "101454/101454 [==============================] - 5s - loss: 0.1217 - val_loss: 0.1130\n",
      "Epoch 16/20\n",
      "101454/101454 [==============================] - 5s - loss: 0.1217 - val_loss: 0.1132\n",
      "Epoch 17/20\n",
      "101454/101454 [==============================] - 7s - loss: 0.1215 - val_loss: 0.1129\n",
      "Epoch 18/20\n",
      "101454/101454 [==============================] - 5s - loss: 0.1215 - val_loss: 0.1138\n",
      "Epoch 19/20\n",
      "101454/101454 [==============================] - 5s - loss: 0.1214 - val_loss: 0.1126\n",
      "Epoch 20/20\n",
      "101454/101454 [==============================] - 5s - loss: 0.1214 - val_loss: 0.1129\n"
     ]
    }
   ],
   "source": [
    "hist = model_stack_nn.fit(np.array(X_train_stack_scale), np.array(y_train),\n",
    "                          epochs=20, validation_split=0.33,\n",
    "                          shuffle=True, verbose=1)"
   ]
  },
  {
   "cell_type": "code",
   "execution_count": 43,
   "metadata": {},
   "outputs": [
    {
     "data": {
      "image/png": "[encoded data removed]",
      "text/plain": [
       "<matplotlib.figure.Figure at 0x260834296d8>"
      ]
     },
     "metadata": {},
     "output_type": "display_data"
    }
   ],
   "source": [
    "plt.plot(hist.history['loss'])\n",
    "plt.plot(hist.history['val_loss'])\n",
    "plt.title('model RMSE')\n",
    "plt.ylabel('RMSE')\n",
    "plt.xlabel('epoch')\n",
    "plt.legend(['train', 'valid'], loc='upper right')\n",
    "plt.show()"
   ]
  },
  {
   "cell_type": "code",
   "execution_count": 44,
   "metadata": {},
   "outputs": [],
   "source": [
    "# model_stack_nn.save(obj_save_path+'model_stack_nn.p')\n",
    "model_stack_nn = load_model(obj_save_path+'model_stack_nn.p')"
   ]
  },
  {
   "cell_type": "code",
   "execution_count": 45,
   "metadata": {},
   "outputs": [
    {
     "data": {
      "image/png": "[encoded data removed]",
      "text/plain": [
       "<matplotlib.figure.Figure at 0x260a4f35710>"
      ]
     },
     "metadata": {},
     "output_type": "display_data"
    },
    {
     "data": {
      "image/png": "[encoded data removed]",
      "text/plain": [
       "<matplotlib.figure.Figure at 0x260a8119c18>"
      ]
     },
     "metadata": {},
     "output_type": "display_data"
    },
    {
     "name": "stdout",
     "output_type": "stream",
     "text": [
      "Explained var (predictions) = 0.744079575987\n",
      "RMSE = 0.9809686965354357\n"
     ]
    }
   ],
   "source": [
    "verif_valid(model_stack_nn, X_val_stack_scale, y_val)"
   ]
  },
  {
   "cell_type": "markdown",
   "metadata": {},
   "source": [
    "## XV. ML part 7 : Stacking Model (mean)"
   ]
  },
  {
   "cell_type": "code",
   "execution_count": 46,
   "metadata": {},
   "outputs": [],
   "source": [
    "def check_predictions(predictions, reality):\n",
    "    plt.hist(predictions)\n",
    "    plt.title('Histogram of Predictions')\n",
    "    plt.show()\n",
    "    plt.plot(predictions, reality, 'ro')\n",
    "    plt.xlabel('Predictions')\n",
    "    plt.ylabel('Reality')\n",
    "    plt.title('Predictions x Reality')\n",
    "    plt.plot([reality.min(), reality.max()], [reality.min(), reality.max()], 'k--', lw=4)\n",
    "    plt.show()\n",
    "    print('Explained var (predictions) = '+str(explained_variance_score(reality, predictions)))\n",
    "    print('RMSE = '+str(sqrt(mean_squared_error(reality, predictions))))"
   ]
  },
  {
   "cell_type": "code",
   "execution_count": 47,
   "metadata": {},
   "outputs": [
    {
     "data": {
      "image/png": "[encoded data removed]",
      "text/plain": [
       "<matplotlib.figure.Figure at 0x260a81dab70>"
      ]
     },
     "metadata": {},
     "output_type": "display_data"
    },
    {
     "data": {
      "image/png": "[encoded data removed]",
      "text/plain": [
       "<matplotlib.figure.Figure at 0x260a813ec88>"
      ]
     },
     "metadata": {},
     "output_type": "display_data"
    },
    {
     "name": "stdout",
     "output_type": "stream",
     "text": [
      "Explained var (predictions) = 0.727952478882\n",
      "RMSE = 1.0113403486092158\n"
     ]
    }
   ],
   "source": [
    "pred_val_stack_avg = X_val_stack.mean(axis=1)\n",
    "check_predictions(pred_val_stack_avg, y_val)"
   ]
  },
  {
   "cell_type": "markdown",
   "metadata": {},
   "source": [
    "## XVI. Predictions on the test set"
   ]
  },
  {
   "cell_type": "code",
   "execution_count": 48,
   "metadata": {},
   "outputs": [],
   "source": [
    "# Différents models construits :\n",
    "# [model_rf, model_xgb, model_adab, model_gradb, model_nn, model_stack_nn]"
   ]
  },
  {
   "cell_type": "markdown",
   "metadata": {},
   "source": [
    "D'après les résultats obtenus ici, le meilleur modèle semble être le modèle de stacking basé sur un réseau de neurones. Cependant, il est assez risqué d'utiliser un réseau de neurones dans cette configuration : il est possible de tomber dans le piège du surapprentissage. Par conséquents, le choix d'une moyenne des modèles peut paraître plus sage."
   ]
  },
  {
   "cell_type": "code",
   "execution_count": 49,
   "metadata": {},
   "outputs": [],
   "source": [
    "# Choix du plus performant :\n",
    "model = model_stack_nn"
   ]
  },
  {
   "cell_type": "code",
   "execution_count": 50,
   "metadata": {},
   "outputs": [
    {
     "data": {
      "image/png": "[encoded data removed]",
      "text/plain": [
       "<matplotlib.figure.Figure at 0x260a674ef28>"
      ]
     },
     "metadata": {},
     "output_type": "display_data"
    }
   ],
   "source": [
    "X_test_scale = pd.DataFrame(scale_x.transform(X_test))\n",
    "X_test_scale = np.array(X_test_scale)\n",
    "X_test_stack_scale = np.array(X_test_stack_scale)\n",
    "\n",
    "predictions = model.predict(X_test_stack_scale)\n",
    "predictions = predictions[:, 0]\n",
    "plt.hist(predictions)\n",
    "plt.show()"
   ]
  },
  {
   "cell_type": "code",
   "execution_count": 51,
   "metadata": {},
   "outputs": [
    {
     "data": {
      "image/png": "[encoded data removed]",
      "text/plain": [
       "<matplotlib.figure.Figure at 0x260a8381a58>"
      ]
     },
     "metadata": {},
     "output_type": "display_data"
    }
   ],
   "source": [
    "predictions = X_test['tH2'] + predictions\n",
    "plt.hist(predictions)\n",
    "plt.show()"
   ]
  },
  {
   "cell_type": "code",
   "execution_count": 52,
   "metadata": {},
   "outputs": [],
   "source": [
    "res = pd.DataFrame({\n",
    "        'date': X_test_date,\n",
    "        'insee': X_test_insee,\n",
    "        'ech': X_test_ech,\n",
    "        'tH2_obs': predictions},\n",
    "        columns=['date', 'insee', 'ech', 'tH2_obs'])\n",
    "\n",
    "res.to_csv('new_sub.csv', sep=\";\", index=False)"
   ]
  },
  {
   "cell_type": "code",
   "execution_count": 53,
   "metadata": {
    "scrolled": true
   },
   "outputs": [
    {
     "name": "stdout",
     "output_type": "stream",
     "text": [
      "time enlapsed :  110 min\n"
     ]
    }
   ],
   "source": [
    "print('time enlapsed : ', int((time()-t0)/60), 'min')"
   ]
  },
  {
   "cell_type": "markdown",
   "metadata": {},
   "source": [
    "## Autres méthodes envisagées"
   ]
  },
  {
   "cell_type": "markdown",
   "metadata": {},
   "source": [
    "- Mettre en place un modèle 'Long Short-Term Memory', pour prendre en considértion la séquence des observations : les observations se répètent sur 36 échéances, ce qui peut correspondre au cadre d'application d'un modèle LSTM).\n",
    "- Améliorer hyperparamétrisation des méthodes (tests exhaustifs avec GridSearchCV par exemple)\n",
    "- Rechercher un meilleur stacking (soit avec un autre modèle de stacking, ou bien avec quelques variables explicatives réutilisées)\n",
    "\n",
    "De manière générale, le point à renforcer est d'améliorer la gestion des variables d'échéances (qui signifie que certaines observations sont dépendentes entre elles). Il aurait été intéressant de passer plus de temps sur le deep learning. D'un autre point de vue, il aurait été appréciable de rechercher davantage de méthodes d'imputation de valeurs manquantes pour parvenir à une option plus efficace que l'imputation par moyenne."
   ]
  },
  {
   "cell_type": "markdown",
   "metadata": {},
   "source": [
    "## Problèmes rencontrés"
   ]
  },
  {
   "cell_type": "markdown",
   "metadata": {},
   "source": [
    "De nombreux problèmes ont été rencontrés lors de ce projet :\n",
    "- Les principaux problèmes ont été d'ordre organisationnel, c'est-à-dire qu'il a été parfois difficile de se retrouver pour avancer sur le sujet. Cela est dû à l'alternance, puisque nous n'étions pas toujours ensemble. De manière plus générale, nous étions un tros gros groupe pour travailler tous correctement et équitablement.\n",
    "- La majeure partie des méthodes plus complexes testées (deep learning, régression à effets mixtes, imputations MICE par exemple) n'ont pas été a la hauteur de nos espérances, ce qui est peut-être normal, mais décevant.\n",
    "- L'encadrement s'est effectué trop tôt dans la chronologie du projet, et à terme nous avons eu beaucoup d'interrogations.\n",
    "- Il aurait été très utile de faire un point après la présentation des résultats du challenge pour avoir des astuces pour le futur."
   ]
  },
  {
   "cell_type": "code",
   "execution_count": null,
   "metadata": {},
   "outputs": [],
   "source": []
  }
 ],
 "metadata": {
  "kernelspec": {
   "display_name": "Python 3",
   "language": "python",
   "name": "python3"
  },
  "language_info": {
   "codemirror_mode": {
    "name": "ipython",
    "version": 3
   },
   "file_extension": ".py",
   "mimetype": "text/x-python",
   "name": "python",
   "nbconvert_exporter": "python",
   "pygments_lexer": "ipython3",
   "version": "3.6.1"
  }
 },
 "nbformat": 4,
 "nbformat_minor": 2
}
